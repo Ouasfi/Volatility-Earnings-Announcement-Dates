{
 "metadata": {
  "language_info": {
   "codemirror_mode": {
    "name": "ipython",
    "version": 3
   },
   "file_extension": ".py",
   "mimetype": "text/x-python",
   "name": "python",
   "nbconvert_exporter": "python",
   "pygments_lexer": "ipython3",
   "version": "3.7.6-final"
  },
  "orig_nbformat": 2,
  "kernelspec": {
   "name": "Python 3.7.6 64-bit",
   "display_name": "Python 3.7.6 64-bit",
   "metadata": {
    "interpreter": {
     "hash": "aee8b7b246df8f9039afb4144a1f6fd8d2ca17a180786b69acc140d282b71a49"
    }
   }
  }
 },
 "nbformat": 4,
 "nbformat_minor": 2,
 "cells": [
  {
   "cell_type": "code",
   "execution_count": 1,
   "metadata": {},
   "outputs": [],
   "source": [
    "import pandas as pd\n",
    "import numpy as np"
   ]
  },
  {
   "cell_type": "code",
   "execution_count": 15,
   "metadata": {},
   "outputs": [],
   "source": [
    "df_p = pd.read_csv(\"data/processed_data.csv\")"
   ]
  },
  {
   "cell_type": "code",
   "execution_count": 16,
   "metadata": {},
   "outputs": [],
   "source": [
    "from sklearn.model_selection import train_test_split\n",
    "\n",
    "train_df, test_df = train_test_split(df_p, test_size=0.2)\n",
    "train_df, val_df = train_test_split(train_df, test_size=0.2)"
   ]
  },
  {
   "cell_type": "code",
   "execution_count": 25,
   "metadata": {},
   "outputs": [],
   "source": [
    "#Train set\n",
    "x_train = torch.from_numpy(train_df.drop(columns = 'Target').values).unsqueeze(1)\n",
    "y_train = torch.from_numpy(train_df['Target'].values)\n",
    "#Validation set\n",
    "x_val = torch.from_numpy(val_df.drop(columns = 'Target').values).unsqueeze(1)\n",
    "y_val = torch.from_numpy(val_df['Target'].values)\n",
    "# Test set\n",
    "x_test =torch.from_numpy( test_df.drop(columns = 'Target').values).unsqueeze(1)\n",
    "y_test =torch.from_numpy( test_df['Target'].values)"
   ]
  },
  {
   "cell_type": "code",
   "execution_count": 10,
   "metadata": {},
   "outputs": [],
   "source": [
    "from pylab import *\n",
    "assert len(np.where (isnan((tr_labs)) == True)[0]) == 0\n"
   ]
  },
  {
   "cell_type": "code",
   "execution_count": 14,
   "metadata": {},
   "outputs": [],
   "source": [
    "from fastai.data.core import DataLoaders\n",
    "from fastai.vision.all import *\n",
    "import torch.nn as nn\n",
    "import torch.nn.functional as F "
   ]
  },
  {
   "cell_type": "code",
   "execution_count": 96,
   "metadata": {},
   "outputs": [],
   "source": [
    "class Shallow(nn.Module):\n",
    "    \"\"\"\n",
    "    VGG 4 layers\n",
    "    \"\"\"\n",
    "    def __init__(self):\n",
    "        super(Shallow, self).__init__()\n",
    "        power = 4\n",
    "\n",
    "        self.conv1 = nn.Conv1d(1, 2**power, 4, 2)\n",
    "        self.bn1 = nn.BatchNorm1d(2**power)\n",
    "        #self.pool1 = nn.MaxPool1d(2)\n",
    "\n",
    "        self.conv2 = nn.Conv1d(2**power, 2**power, 4, stride = 2)\n",
    "        self.bn2 = nn.BatchNorm1d(2**power)\n",
    "        #self.pool2 = nn.MaxPool1d(1)\n",
    "\n",
    "        self.conv3 = nn.Conv1d(2**power, 2**(power+1), 2, stride = 2)\n",
    "        self.bn3 = nn.BatchNorm1d(2**(power+1))\n",
    "        self.pool3 = nn.MaxPool1d(2)\n",
    "\n",
    "        self.flatten = nn.Flatten()\n",
    "        self.fc = nn.Linear(32, 2)\n",
    "    def forward(self, x):\n",
    "        x = self.conv1(x)\n",
    "        x = self.bn1(x).relu()\n",
    "        #x = self.pool1(x)\n",
    "\n",
    "        x = self.conv2(x)\n",
    "        x = self.bn2(x).relu()\n",
    "        #x = self.pool2(x)\n",
    "        x = self.conv3(x)\n",
    "        x = self.bn3(x).relu()\n",
    "        x = self.pool3(x)\n",
    "        x = self.fc(self.flatten(x))\n",
    "        \n",
    "        return x"
   ]
  },
  {
   "cell_type": "code",
   "execution_count": 92,
   "metadata": {},
   "outputs": [],
   "source": [
    "trainset = Dataset(train_df)\n",
    "sampler = WSampler(trainset, batch_size = 10,weights = [0.5]*2 )\n",
    "train_loader = torch.utils.data.DataLoader(trainset, batch_size=10, \n",
    "                                     num_workers=0, sampler = sampler)\n",
    "x_batch, y_batch = next(iter(train_loader))"
   ]
  },
  {
   "cell_type": "code",
   "execution_count": 93,
   "metadata": {},
   "outputs": [],
   "source": [
    "#model\n",
    "val_generator = Dataset(val_df)\n",
    "val_sampler =  WSampler(val_generator, batch_size = 30, weights = [0.5]*2)\n",
    "val_dataset = torch.utils.data.Subset(val_generator, indices= list(val_sampler))\n",
    "val_loader = torch.utils.data.DataLoader(val_dataset, batch_size=30, \n",
    "                                     num_workers=0)\n"
   ]
  },
  {
   "cell_type": "code",
   "execution_count": 98,
   "metadata": {},
   "outputs": [],
   "source": [
    "model = Shallow()\n",
    "model.float()\n",
    "#model = model.to(torch.float)\n",
    "# loss_fn \n",
    "loss_fn = CrossEntropyLossFlat() #soft_margin_loss\n",
    "# fastai learner\n",
    "dls = DataLoaders(train_loader,val_loader) # a validation set need to be defined\n",
    "learn = Learner(dls, model, loss_func=loss_fn, opt_func=Adam, metrics=[accuracy, F1Score(), Precision(), Recall()], \n",
    "                )"
   ]
  },
  {
   "cell_type": "code",
   "execution_count": 99,
   "metadata": {},
   "outputs": [
    {
     "output_type": "display_data",
     "data": {
      "text/plain": "<IPython.core.display.HTML object>",
      "text/html": "\n    <div>\n        <style>\n            /* Turns off some styling */\n            progress {\n                /* gets rid of default border in Firefox and Opera. */\n                border: none;\n                /* Needs to be in here for Safari polyfill so background images work as expected. */\n                background-size: auto;\n            }\n            .progress-bar-interrupted, .progress-bar-interrupted::-webkit-progress-bar {\n                background: #F44336;\n            }\n        </style>\n      <progress value='0' class='' max='1' style='width:300px; height:20px; vertical-align: middle;'></progress>\n      \n    </div>\n    \n"
     },
     "metadata": {}
    }
   ],
   "source": [
    "learn.fit(1)"
   ]
  },
  {
   "cell_type": "code",
   "execution_count": 100,
   "metadata": {},
   "outputs": [
    {
     "data": {
      "text/html": "",
      "text/plain": "<IPython.core.display.HTML object>"
     },
     "metadata": {},
     "output_type": "display_data"
    }
   ],
   "source": [
    "learn.validate()"
   ]
  },
  {
   "cell_type": "code",
   "execution_count": null,
   "metadata": {},
   "outputs": [],
   "source": []
  }
 ]
}