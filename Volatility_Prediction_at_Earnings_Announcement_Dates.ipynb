{
 "cells": [
  {
   "cell_type": "code",
   "execution_count": 0,
   "metadata": {
    "colab": {
     "base_uri": "https://localhost:8080/",
     "height": 34
    },
    "colab_type": "code",
    "id": "7mGYQArvk0KE",
    "outputId": "10d4436f-a657-4cbd-d975-a3e9eb03b9bc"
   },
   "outputs": [
    {
     "name": "stderr",
     "output_type": "stream",
     "text": [
      "Using TensorFlow backend.\n"
     ]
    }
   ],
   "source": [
    "import keras\n",
    "import numpy as np\n",
    "import pandas as pd\n",
    "import warnings \n",
    "warnings.filterwarnings('ignore')\n",
    "import numpy as np \n",
    "import pandas as pd \n",
    "%matplotlib inline\n",
    "import matplotlib.pyplot as plt  # Matlab style plot\n",
    "import seaborn as sns # affichage, on peut utiliser d'autres librairies\n",
    "import statsmodels.api as sm # modèle stat contenant le modèle ARIMA\n",
    "from pylab import *\n",
    "from scipy import stats\n",
    "from scipy.stats import normaltest\n",
    "mpl.rcParams['figure.figsize'] = (12, 10)\n",
    "colors = plt.rcParams['axes.prop_cycle'].by_key()['color']"
   ]
  },
  {
   "cell_type": "code",
   "execution_count": 0,
   "metadata": {
    "colab": {
     "base_uri": "https://localhost:8080/",
     "height": 68
    },
    "colab_type": "code",
    "id": "odNd88EI8PzR",
    "outputId": "a57d0ba7-91b7-4955-92af-28af6155b8c9"
   },
   "outputs": [
    {
     "name": "stdout",
     "output_type": "stream",
     "text": [
      "ref_phase2_train_x.csv  ref_test_x.csv   ref_valid_x.csv\n",
      "ref_phase2_train_y.csv  ref_train_x.csv  \u001b[0m\u001b[01;34msample_data\u001b[0m/\n",
      "ref_phase2_valid_x.csv  ref_train_y.csv\n"
     ]
    }
   ],
   "source": [
    "ls"
   ]
  },
  {
   "cell_type": "markdown",
   "metadata": {
    "colab_type": "text",
    "id": "n3sWcRvODDmK"
   },
   "source": [
    "## Data preparation and preprocessing"
   ]
  },
  {
   "cell_type": "code",
   "execution_count": 0,
   "metadata": {
    "colab": {
     "base_uri": "https://localhost:8080/",
     "height": 224
    },
    "colab_type": "code",
    "id": "2MxHGknL7YHI",
    "outputId": "f3e30ec3-02ac-496b-fcb8-7d5e3ba736d6"
   },
   "outputs": [
    {
     "data": {
      "text/html": [
       "<div>\n",
       "<style scoped>\n",
       "    .dataframe tbody tr th:only-of-type {\n",
       "        vertical-align: middle;\n",
       "    }\n",
       "\n",
       "    .dataframe tbody tr th {\n",
       "        vertical-align: top;\n",
       "    }\n",
       "\n",
       "    .dataframe thead th {\n",
       "        text-align: right;\n",
       "    }\n",
       "</style>\n",
       "<table border=\"1\" class=\"dataframe\">\n",
       "  <thead>\n",
       "    <tr style=\"text-align: right;\">\n",
       "      <th></th>\n",
       "      <th>sector</th>\n",
       "      <th>earnings_implied_obs</th>\n",
       "      <th>delta_vol_1w</th>\n",
       "      <th>delta_vol_1y</th>\n",
       "      <th>return_1w</th>\n",
       "      <th>return_1m</th>\n",
       "      <th>return_1y</th>\n",
       "      <th>implied_vol_3m</th>\n",
       "      <th>realised_vol_1w</th>\n",
       "      <th>realised_vol_1m</th>\n",
       "      <th>realised_vol_1y</th>\n",
       "      <th>ratio_put_call</th>\n",
       "      <th>publication_date_funda</th>\n",
       "      <th>exchange</th>\n",
       "      <th>net_income</th>\n",
       "      <th>shareholders_equity</th>\n",
       "      <th>net_debt</th>\n",
       "      <th>ebitda</th>\n",
       "      <th>ebit</th>\n",
       "      <th>sales</th>\n",
       "      <th>cash_flow</th>\n",
       "      <th>payout_ratio</th>\n",
       "    </tr>\n",
       "  </thead>\n",
       "  <tbody>\n",
       "    <tr>\n",
       "      <th>0</th>\n",
       "      <td>4700</td>\n",
       "      <td>2.4461</td>\n",
       "      <td>0.1735</td>\n",
       "      <td>2.1648</td>\n",
       "      <td>-1.0713</td>\n",
       "      <td>4.8328</td>\n",
       "      <td>11.6924</td>\n",
       "      <td>22.7856</td>\n",
       "      <td>1.180800</td>\n",
       "      <td>1.375023</td>\n",
       "      <td>1.191461</td>\n",
       "      <td>0.295143</td>\n",
       "      <td>332.0</td>\n",
       "      <td>US</td>\n",
       "      <td>0.053045</td>\n",
       "      <td>0.607667</td>\n",
       "      <td>0.629030</td>\n",
       "      <td>0.188284</td>\n",
       "      <td>0.113513</td>\n",
       "      <td>0.547924</td>\n",
       "      <td>0.164567</td>\n",
       "      <td>67.083333</td>\n",
       "    </tr>\n",
       "    <tr>\n",
       "      <th>1</th>\n",
       "      <td>4700</td>\n",
       "      <td>4.7421</td>\n",
       "      <td>-0.0019</td>\n",
       "      <td>-0.8875</td>\n",
       "      <td>-0.0854</td>\n",
       "      <td>-2.9170</td>\n",
       "      <td>26.9056</td>\n",
       "      <td>17.7426</td>\n",
       "      <td>0.707194</td>\n",
       "      <td>0.800064</td>\n",
       "      <td>1.163401</td>\n",
       "      <td>0.309301</td>\n",
       "      <td>161.0</td>\n",
       "      <td>US</td>\n",
       "      <td>0.049732</td>\n",
       "      <td>0.548312</td>\n",
       "      <td>0.574994</td>\n",
       "      <td>0.169877</td>\n",
       "      <td>0.099385</td>\n",
       "      <td>0.481372</td>\n",
       "      <td>0.149906</td>\n",
       "      <td>63.899614</td>\n",
       "    </tr>\n",
       "    <tr>\n",
       "      <th>2</th>\n",
       "      <td>4700</td>\n",
       "      <td>2.6895</td>\n",
       "      <td>0.2251</td>\n",
       "      <td>-3.8361</td>\n",
       "      <td>-2.1077</td>\n",
       "      <td>-1.5320</td>\n",
       "      <td>15.6661</td>\n",
       "      <td>15.8499</td>\n",
       "      <td>0.623590</td>\n",
       "      <td>0.615243</td>\n",
       "      <td>1.047727</td>\n",
       "      <td>0.406421</td>\n",
       "      <td>65.0</td>\n",
       "      <td>US</td>\n",
       "      <td>0.049070</td>\n",
       "      <td>0.533757</td>\n",
       "      <td>0.588012</td>\n",
       "      <td>0.173886</td>\n",
       "      <td>0.103776</td>\n",
       "      <td>0.456583</td>\n",
       "      <td>0.149013</td>\n",
       "      <td>63.992537</td>\n",
       "    </tr>\n",
       "    <tr>\n",
       "      <th>3</th>\n",
       "      <td>1200</td>\n",
       "      <td>3.6157</td>\n",
       "      <td>-2.9473</td>\n",
       "      <td>2.2332</td>\n",
       "      <td>7.0837</td>\n",
       "      <td>0.5461</td>\n",
       "      <td>8.0946</td>\n",
       "      <td>20.5666</td>\n",
       "      <td>1.979139</td>\n",
       "      <td>1.972296</td>\n",
       "      <td>1.080879</td>\n",
       "      <td>0.295469</td>\n",
       "      <td>244.0</td>\n",
       "      <td>US</td>\n",
       "      <td>0.042230</td>\n",
       "      <td>0.256167</td>\n",
       "      <td>0.091474</td>\n",
       "      <td>0.076270</td>\n",
       "      <td>0.066578</td>\n",
       "      <td>0.293579</td>\n",
       "      <td>0.052240</td>\n",
       "      <td>11.428571</td>\n",
       "    </tr>\n",
       "    <tr>\n",
       "      <th>4</th>\n",
       "      <td>1200</td>\n",
       "      <td>3.7540</td>\n",
       "      <td>-0.3427</td>\n",
       "      <td>2.8985</td>\n",
       "      <td>-2.3332</td>\n",
       "      <td>-16.0613</td>\n",
       "      <td>-6.7157</td>\n",
       "      <td>27.3656</td>\n",
       "      <td>1.544946</td>\n",
       "      <td>1.400208</td>\n",
       "      <td>1.295192</td>\n",
       "      <td>0.750094</td>\n",
       "      <td>346.0</td>\n",
       "      <td>US</td>\n",
       "      <td>0.053010</td>\n",
       "      <td>0.293828</td>\n",
       "      <td>0.121212</td>\n",
       "      <td>0.094071</td>\n",
       "      <td>0.081502</td>\n",
       "      <td>0.364791</td>\n",
       "      <td>0.069170</td>\n",
       "      <td>13.924051</td>\n",
       "    </tr>\n",
       "  </tbody>\n",
       "</table>\n",
       "</div>"
      ],
      "text/plain": [
       "   sector  earnings_implied_obs  ...  cash_flow  payout_ratio\n",
       "0    4700                2.4461  ...   0.164567     67.083333\n",
       "1    4700                4.7421  ...   0.149906     63.899614\n",
       "2    4700                2.6895  ...   0.149013     63.992537\n",
       "3    1200                3.6157  ...   0.052240     11.428571\n",
       "4    1200                3.7540  ...   0.069170     13.924051\n",
       "\n",
       "[5 rows x 22 columns]"
      ]
     },
     "execution_count": 3,
     "metadata": {
      "tags": []
     },
     "output_type": "execute_result"
    }
   ],
   "source": [
    "sp_train = pd.read_csv(\"ref_train_x.csv\").drop( columns = [\"raw_id\"])\n",
    "col_names = sp_train.columns\n",
    "sp_y_train = pd.read_csv(\"ref_train_y.csv\", names = [\"Target\"])\n",
    "sp_test = pd.read_csv(\"ref_test_x.csv\").drop( columns = [\"raw_id\"])\n",
    "sp_val= pd.read_csv(\"ref_valid_x.csv\").drop( columns = [\"raw_id\"])\n",
    "sp_val.head()"
   ]
  },
  {
   "cell_type": "code",
   "execution_count": 0,
   "metadata": {
    "colab": {
     "base_uri": "https://localhost:8080/",
     "height": 34
    },
    "colab_type": "code",
    "id": "BbbOjb8S1NGf",
    "outputId": "b249ac89-4829-43c4-84fd-1201f3d90248"
   },
   "outputs": [
    {
     "data": {
      "text/plain": [
       "(15249, 1)"
      ]
     },
     "execution_count": 4,
     "metadata": {
      "tags": []
     },
     "output_type": "execute_result"
    }
   ],
   "source": [
    "sp_y_train.shape"
   ]
  },
  {
   "cell_type": "code",
   "execution_count": 0,
   "metadata": {
    "colab": {
     "base_uri": "https://localhost:8080/",
     "height": 162
    },
    "colab_type": "code",
    "id": "VaRoWPLi7YKl",
    "outputId": "ca1ad396-26d2-4d40-ede6-04a26534d905"
   },
   "outputs": [
    {
     "data": {
      "text/html": [
       "<div>\n",
       "<style scoped>\n",
       "    .dataframe tbody tr th:only-of-type {\n",
       "        vertical-align: middle;\n",
       "    }\n",
       "\n",
       "    .dataframe tbody tr th {\n",
       "        vertical-align: top;\n",
       "    }\n",
       "\n",
       "    .dataframe thead th {\n",
       "        text-align: right;\n",
       "    }\n",
       "</style>\n",
       "<table border=\"1\" class=\"dataframe\">\n",
       "  <thead>\n",
       "    <tr style=\"text-align: right;\">\n",
       "      <th></th>\n",
       "      <th>sector</th>\n",
       "      <th>earnings_implied_obs</th>\n",
       "      <th>delta_vol_1w</th>\n",
       "      <th>delta_vol_1y</th>\n",
       "      <th>return_1w</th>\n",
       "      <th>return_1m</th>\n",
       "      <th>return_1y</th>\n",
       "      <th>implied_vol_3m</th>\n",
       "      <th>realised_vol_1w</th>\n",
       "      <th>realised_vol_1m</th>\n",
       "      <th>realised_vol_1y</th>\n",
       "      <th>ratio_put_call</th>\n",
       "      <th>publication_date_funda</th>\n",
       "      <th>exchange</th>\n",
       "      <th>net_income</th>\n",
       "      <th>shareholders_equity</th>\n",
       "      <th>net_debt</th>\n",
       "      <th>ebitda</th>\n",
       "      <th>ebit</th>\n",
       "      <th>sales</th>\n",
       "      <th>cash_flow</th>\n",
       "      <th>payout_ratio</th>\n",
       "      <th>Target</th>\n",
       "    </tr>\n",
       "  </thead>\n",
       "  <tbody>\n",
       "    <tr>\n",
       "      <th>0</th>\n",
       "      <td>4700</td>\n",
       "      <td>3.7452</td>\n",
       "      <td>-0.3692</td>\n",
       "      <td>-0.0972</td>\n",
       "      <td>2.2375</td>\n",
       "      <td>1.1495</td>\n",
       "      <td>22.1040</td>\n",
       "      <td>17.1714</td>\n",
       "      <td>0.787627</td>\n",
       "      <td>0.884178</td>\n",
       "      <td>1.401695</td>\n",
       "      <td>0.516182</td>\n",
       "      <td>364.0</td>\n",
       "      <td>US</td>\n",
       "      <td>0.018193</td>\n",
       "      <td>1.011748</td>\n",
       "      <td>0.924447</td>\n",
       "      <td>0.306404</td>\n",
       "      <td>0.196460</td>\n",
       "      <td>1.000361</td>\n",
       "      <td>0.245411</td>\n",
       "      <td>265.517241</td>\n",
       "      <td>0</td>\n",
       "    </tr>\n",
       "    <tr>\n",
       "      <th>1</th>\n",
       "      <td>4700</td>\n",
       "      <td>3.2026</td>\n",
       "      <td>-0.6008</td>\n",
       "      <td>0.6127</td>\n",
       "      <td>3.3098</td>\n",
       "      <td>1.3508</td>\n",
       "      <td>17.5971</td>\n",
       "      <td>15.9524</td>\n",
       "      <td>0.939068</td>\n",
       "      <td>0.833054</td>\n",
       "      <td>1.370815</td>\n",
       "      <td>0.540048</td>\n",
       "      <td>66.0</td>\n",
       "      <td>US</td>\n",
       "      <td>0.065461</td>\n",
       "      <td>0.998823</td>\n",
       "      <td>0.836746</td>\n",
       "      <td>0.280513</td>\n",
       "      <td>0.173050</td>\n",
       "      <td>0.950767</td>\n",
       "      <td>0.225520</td>\n",
       "      <td>72.325581</td>\n",
       "      <td>0</td>\n",
       "    </tr>\n",
       "    <tr>\n",
       "      <th>2</th>\n",
       "      <td>4700</td>\n",
       "      <td>4.4641</td>\n",
       "      <td>1.6247</td>\n",
       "      <td>-5.4056</td>\n",
       "      <td>-0.6884</td>\n",
       "      <td>-2.3511</td>\n",
       "      <td>6.2714</td>\n",
       "      <td>16.4591</td>\n",
       "      <td>0.959970</td>\n",
       "      <td>0.714396</td>\n",
       "      <td>0.907072</td>\n",
       "      <td>0.558759</td>\n",
       "      <td>255.0</td>\n",
       "      <td>US</td>\n",
       "      <td>0.065711</td>\n",
       "      <td>1.002628</td>\n",
       "      <td>0.839933</td>\n",
       "      <td>0.281582</td>\n",
       "      <td>0.173709</td>\n",
       "      <td>0.954389</td>\n",
       "      <td>0.226379</td>\n",
       "      <td>72.325581</td>\n",
       "      <td>0</td>\n",
       "    </tr>\n",
       "  </tbody>\n",
       "</table>\n",
       "</div>"
      ],
      "text/plain": [
       "   sector  earnings_implied_obs  delta_vol_1w  ...  cash_flow  payout_ratio  Target\n",
       "0    4700                3.7452       -0.3692  ...   0.245411    265.517241       0\n",
       "1    4700                3.2026       -0.6008  ...   0.225520     72.325581       0\n",
       "2    4700                4.4641        1.6247  ...   0.226379     72.325581       0\n",
       "\n",
       "[3 rows x 23 columns]"
      ]
     },
     "execution_count": 5,
     "metadata": {
      "tags": []
     },
     "output_type": "execute_result"
    }
   ],
   "source": [
    "df_train = sp_train.copy()\n",
    "df_train[\"Target\"]= sp_y_train;df_train.head(3)"
   ]
  },
  {
   "cell_type": "code",
   "execution_count": 0,
   "metadata": {
    "colab": {
     "base_uri": "https://localhost:8080/",
     "height": 317
    },
    "colab_type": "code",
    "id": "avGc-K1G_WyN",
    "outputId": "39c65590-ebcd-44ab-957e-371327827fcc"
   },
   "outputs": [
    {
     "data": {
      "text/html": [
       "<div>\n",
       "<style scoped>\n",
       "    .dataframe tbody tr th:only-of-type {\n",
       "        vertical-align: middle;\n",
       "    }\n",
       "\n",
       "    .dataframe tbody tr th {\n",
       "        vertical-align: top;\n",
       "    }\n",
       "\n",
       "    .dataframe thead th {\n",
       "        text-align: right;\n",
       "    }\n",
       "</style>\n",
       "<table border=\"1\" class=\"dataframe\">\n",
       "  <thead>\n",
       "    <tr style=\"text-align: right;\">\n",
       "      <th></th>\n",
       "      <th>sector</th>\n",
       "      <th>earnings_implied_obs</th>\n",
       "      <th>delta_vol_1w</th>\n",
       "      <th>delta_vol_1y</th>\n",
       "      <th>return_1w</th>\n",
       "      <th>return_1m</th>\n",
       "      <th>return_1y</th>\n",
       "      <th>implied_vol_3m</th>\n",
       "      <th>realised_vol_1w</th>\n",
       "      <th>realised_vol_1m</th>\n",
       "      <th>realised_vol_1y</th>\n",
       "      <th>ratio_put_call</th>\n",
       "      <th>publication_date_funda</th>\n",
       "      <th>net_income</th>\n",
       "      <th>shareholders_equity</th>\n",
       "      <th>net_debt</th>\n",
       "      <th>ebitda</th>\n",
       "      <th>ebit</th>\n",
       "      <th>sales</th>\n",
       "      <th>cash_flow</th>\n",
       "      <th>payout_ratio</th>\n",
       "      <th>Target</th>\n",
       "    </tr>\n",
       "  </thead>\n",
       "  <tbody>\n",
       "    <tr>\n",
       "      <th>count</th>\n",
       "      <td>15249.000000</td>\n",
       "      <td>15229.000000</td>\n",
       "      <td>15239.000000</td>\n",
       "      <td>15021.000000</td>\n",
       "      <td>15248.000000</td>\n",
       "      <td>15248.000000</td>\n",
       "      <td>15248.000000</td>\n",
       "      <td>15244.000000</td>\n",
       "      <td>15246.000000</td>\n",
       "      <td>15246.000000</td>\n",
       "      <td>15247.000000</td>\n",
       "      <td>15154.000000</td>\n",
       "      <td>15234.000000</td>\n",
       "      <td>15232.000000</td>\n",
       "      <td>15228.000000</td>\n",
       "      <td>15229.000000</td>\n",
       "      <td>13380.000000</td>\n",
       "      <td>13384.000000</td>\n",
       "      <td>15231.000000</td>\n",
       "      <td>15223.000000</td>\n",
       "      <td>15155.000000</td>\n",
       "      <td>15249.000000</td>\n",
       "    </tr>\n",
       "    <tr>\n",
       "      <th>mean</th>\n",
       "      <td>3038.146764</td>\n",
       "      <td>4.123989</td>\n",
       "      <td>0.305965</td>\n",
       "      <td>0.714170</td>\n",
       "      <td>0.148589</td>\n",
       "      <td>1.483637</td>\n",
       "      <td>13.256354</td>\n",
       "      <td>26.903479</td>\n",
       "      <td>1.452244</td>\n",
       "      <td>1.504748</td>\n",
       "      <td>1.674337</td>\n",
       "      <td>0.484258</td>\n",
       "      <td>206.854011</td>\n",
       "      <td>0.034064</td>\n",
       "      <td>0.498687</td>\n",
       "      <td>0.644835</td>\n",
       "      <td>0.136042</td>\n",
       "      <td>0.085556</td>\n",
       "      <td>0.993146</td>\n",
       "      <td>0.118811</td>\n",
       "      <td>71.237165</td>\n",
       "      <td>0.267690</td>\n",
       "    </tr>\n",
       "    <tr>\n",
       "      <th>std</th>\n",
       "      <td>1314.944072</td>\n",
       "      <td>2.524939</td>\n",
       "      <td>3.679804</td>\n",
       "      <td>9.630336</td>\n",
       "      <td>3.754969</td>\n",
       "      <td>7.425006</td>\n",
       "      <td>25.285679</td>\n",
       "      <td>10.264673</td>\n",
       "      <td>0.827564</td>\n",
       "      <td>0.829296</td>\n",
       "      <td>0.675579</td>\n",
       "      <td>0.155217</td>\n",
       "      <td>106.594922</td>\n",
       "      <td>0.478796</td>\n",
       "      <td>0.535053</td>\n",
       "      <td>3.891682</td>\n",
       "      <td>0.148875</td>\n",
       "      <td>0.111803</td>\n",
       "      <td>1.454851</td>\n",
       "      <td>0.326089</td>\n",
       "      <td>574.784253</td>\n",
       "      <td>0.442769</td>\n",
       "    </tr>\n",
       "    <tr>\n",
       "      <th>min</th>\n",
       "      <td>1100.000000</td>\n",
       "      <td>0.034300</td>\n",
       "      <td>-102.059100</td>\n",
       "      <td>-297.204800</td>\n",
       "      <td>-102.875600</td>\n",
       "      <td>-50.447900</td>\n",
       "      <td>-186.668800</td>\n",
       "      <td>5.070000</td>\n",
       "      <td>0.141037</td>\n",
       "      <td>0.128684</td>\n",
       "      <td>0.495623</td>\n",
       "      <td>0.000070</td>\n",
       "      <td>4.000000</td>\n",
       "      <td>-53.872876</td>\n",
       "      <td>-16.984842</td>\n",
       "      <td>-10.718349</td>\n",
       "      <td>-5.507148</td>\n",
       "      <td>-6.746918</td>\n",
       "      <td>-0.186518</td>\n",
       "      <td>-1.730255</td>\n",
       "      <td>0.000000</td>\n",
       "      <td>0.000000</td>\n",
       "    </tr>\n",
       "    <tr>\n",
       "      <th>25%</th>\n",
       "      <td>2100.000000</td>\n",
       "      <td>2.765700</td>\n",
       "      <td>-0.677250</td>\n",
       "      <td>-2.615200</td>\n",
       "      <td>-1.695175</td>\n",
       "      <td>-2.658975</td>\n",
       "      <td>-0.380800</td>\n",
       "      <td>20.942550</td>\n",
       "      <td>0.946495</td>\n",
       "      <td>1.044182</td>\n",
       "      <td>1.235449</td>\n",
       "      <td>0.395233</td>\n",
       "      <td>134.000000</td>\n",
       "      <td>0.028509</td>\n",
       "      <td>0.203876</td>\n",
       "      <td>0.019968</td>\n",
       "      <td>0.070662</td>\n",
       "      <td>0.049929</td>\n",
       "      <td>0.304341</td>\n",
       "      <td>0.055226</td>\n",
       "      <td>17.790398</td>\n",
       "      <td>0.000000</td>\n",
       "    </tr>\n",
       "    <tr>\n",
       "      <th>50%</th>\n",
       "      <td>3200.000000</td>\n",
       "      <td>3.645000</td>\n",
       "      <td>0.129000</td>\n",
       "      <td>0.890800</td>\n",
       "      <td>0.321100</td>\n",
       "      <td>1.751250</td>\n",
       "      <td>14.078700</td>\n",
       "      <td>24.898550</td>\n",
       "      <td>1.287629</td>\n",
       "      <td>1.347276</td>\n",
       "      <td>1.513283</td>\n",
       "      <td>0.488074</td>\n",
       "      <td>189.000000</td>\n",
       "      <td>0.046449</td>\n",
       "      <td>0.360802</td>\n",
       "      <td>0.155451</td>\n",
       "      <td>0.104280</td>\n",
       "      <td>0.073895</td>\n",
       "      <td>0.571448</td>\n",
       "      <td>0.084738</td>\n",
       "      <td>36.512262</td>\n",
       "      <td>0.000000</td>\n",
       "    </tr>\n",
       "    <tr>\n",
       "      <th>75%</th>\n",
       "      <td>4700.000000</td>\n",
       "      <td>4.878000</td>\n",
       "      <td>1.087100</td>\n",
       "      <td>4.205800</td>\n",
       "      <td>2.163650</td>\n",
       "      <td>5.813400</td>\n",
       "      <td>28.085200</td>\n",
       "      <td>30.333475</td>\n",
       "      <td>1.750571</td>\n",
       "      <td>1.760508</td>\n",
       "      <td>1.932164</td>\n",
       "      <td>0.576929</td>\n",
       "      <td>321.000000</td>\n",
       "      <td>0.068174</td>\n",
       "      <td>0.646414</td>\n",
       "      <td>0.436791</td>\n",
       "      <td>0.162991</td>\n",
       "      <td>0.106413</td>\n",
       "      <td>1.143283</td>\n",
       "      <td>0.138782</td>\n",
       "      <td>60.169492</td>\n",
       "      <td>1.000000</td>\n",
       "    </tr>\n",
       "    <tr>\n",
       "      <th>max</th>\n",
       "      <td>6000.000000</td>\n",
       "      <td>96.156200</td>\n",
       "      <td>297.876900</td>\n",
       "      <td>288.698800</td>\n",
       "      <td>49.581700</td>\n",
       "      <td>103.039800</td>\n",
       "      <td>192.361700</td>\n",
       "      <td>329.046700</td>\n",
       "      <td>26.094069</td>\n",
       "      <td>38.178429</td>\n",
       "      <td>12.798581</td>\n",
       "      <td>0.999917</td>\n",
       "      <td>931.000000</td>\n",
       "      <td>0.888207</td>\n",
       "      <td>19.549657</td>\n",
       "      <td>362.873617</td>\n",
       "      <td>5.016946</td>\n",
       "      <td>4.711881</td>\n",
       "      <td>33.675033</td>\n",
       "      <td>36.050037</td>\n",
       "      <td>40483.870968</td>\n",
       "      <td>1.000000</td>\n",
       "    </tr>\n",
       "  </tbody>\n",
       "</table>\n",
       "</div>"
      ],
      "text/plain": [
       "             sector  earnings_implied_obs  ...  payout_ratio        Target\n",
       "count  15249.000000          15229.000000  ...  15155.000000  15249.000000\n",
       "mean    3038.146764              4.123989  ...     71.237165      0.267690\n",
       "std     1314.944072              2.524939  ...    574.784253      0.442769\n",
       "min     1100.000000              0.034300  ...      0.000000      0.000000\n",
       "25%     2100.000000              2.765700  ...     17.790398      0.000000\n",
       "50%     3200.000000              3.645000  ...     36.512262      0.000000\n",
       "75%     4700.000000              4.878000  ...     60.169492      1.000000\n",
       "max     6000.000000             96.156200  ...  40483.870968      1.000000\n",
       "\n",
       "[8 rows x 22 columns]"
      ]
     },
     "execution_count": 6,
     "metadata": {
      "tags": []
     },
     "output_type": "execute_result"
    }
   ],
   "source": [
    "df_train.describe()"
   ]
  },
  {
   "cell_type": "markdown",
   "metadata": {
    "colab_type": "text",
    "id": "Krar4VSO-44s"
   },
   "source": []
  },
  {
   "cell_type": "code",
   "execution_count": 0,
   "metadata": {
    "colab": {
     "base_uri": "https://localhost:8080/",
     "height": 527
    },
    "colab_type": "code",
    "id": "uM0LLXWN_i9Z",
    "outputId": "c70075dd-9a40-41db-ab63-23b46d677b1f"
   },
   "outputs": [
    {
     "name": "stdout",
     "output_type": "stream",
     "text": [
      "<class 'pandas.core.frame.DataFrame'>\n",
      "RangeIndex: 15249 entries, 0 to 15248\n",
      "Data columns (total 23 columns):\n",
      " #   Column                  Non-Null Count  Dtype  \n",
      "---  ------                  --------------  -----  \n",
      " 0   sector                  15249 non-null  int64  \n",
      " 1   earnings_implied_obs    15229 non-null  float64\n",
      " 2   delta_vol_1w            15239 non-null  float64\n",
      " 3   delta_vol_1y            15021 non-null  float64\n",
      " 4   return_1w               15248 non-null  float64\n",
      " 5   return_1m               15248 non-null  float64\n",
      " 6   return_1y               15248 non-null  float64\n",
      " 7   implied_vol_3m          15244 non-null  float64\n",
      " 8   realised_vol_1w         15246 non-null  float64\n",
      " 9   realised_vol_1m         15246 non-null  float64\n",
      " 10  realised_vol_1y         15247 non-null  float64\n",
      " 11  ratio_put_call          15154 non-null  float64\n",
      " 12  publication_date_funda  15234 non-null  float64\n",
      " 13  exchange                15249 non-null  object \n",
      " 14  net_income              15232 non-null  float64\n",
      " 15  shareholders_equity     15228 non-null  float64\n",
      " 16  net_debt                15229 non-null  float64\n",
      " 17  ebitda                  13380 non-null  float64\n",
      " 18  ebit                    13384 non-null  float64\n",
      " 19  sales                   15231 non-null  float64\n",
      " 20  cash_flow               15223 non-null  float64\n",
      " 21  payout_ratio            15155 non-null  float64\n",
      " 22  Target                  15249 non-null  int64  \n",
      "dtypes: float64(20), int64(2), object(1)\n",
      "memory usage: 2.7+ MB\n"
     ]
    }
   ],
   "source": [
    "df_train.info()"
   ]
  },
  {
   "cell_type": "code",
   "execution_count": 0,
   "metadata": {
    "colab": {
     "base_uri": "https://localhost:8080/",
     "height": 425
    },
    "colab_type": "code",
    "id": "mesmfA9ZAMxc",
    "outputId": "97bc7397-4f97-47fc-98f8-a4be04dc7a4c"
   },
   "outputs": [
    {
     "data": {
      "text/plain": [
       "sector                     0.000000\n",
       "earnings_implied_obs       0.131156\n",
       "delta_vol_1w               0.065578\n",
       "delta_vol_1y               1.495180\n",
       "return_1w                  0.006558\n",
       "return_1m                  0.006558\n",
       "return_1y                  0.006558\n",
       "implied_vol_3m             0.032789\n",
       "realised_vol_1w            0.019673\n",
       "realised_vol_1m            0.019673\n",
       "realised_vol_1y            0.013116\n",
       "ratio_put_call             0.622992\n",
       "publication_date_funda     0.098367\n",
       "exchange                   0.000000\n",
       "net_income                 0.111483\n",
       "shareholders_equity        0.137714\n",
       "net_debt                   0.131156\n",
       "ebitda                    12.256541\n",
       "ebit                      12.230310\n",
       "sales                      0.118041\n",
       "cash_flow                  0.170503\n",
       "payout_ratio               0.616434\n",
       "Target                     0.000000\n",
       "dtype: float64"
      ]
     },
     "execution_count": 8,
     "metadata": {
      "tags": []
     },
     "output_type": "execute_result"
    }
   ],
   "source": [
    "100*df_train.isna().sum()/len(df_train)"
   ]
  },
  {
   "cell_type": "markdown",
   "metadata": {
    "colab_type": "text",
    "id": "Jz3AsAuVClct"
   },
   "source": [
    "**Remarque** As we can see there are a lot of missing values. Let's first fill these values using K Nearnerst Neighboors imputer."
   ]
  },
  {
   "cell_type": "code",
   "execution_count": 0,
   "metadata": {
    "colab": {},
    "colab_type": "code",
    "id": "S04QQDXzFil6"
   },
   "outputs": [],
   "source": [
    "from sklearn import preprocessing\n",
    "le = preprocessing.LabelEncoder()\n",
    "df_train[\"exchange\"] = le.fit_transform(df_train[\"exchange\"])\n"
   ]
  },
  {
   "cell_type": "markdown",
   "metadata": {
    "colab_type": "text",
    "id": "InnBiWeFC9D5"
   },
   "source": [
    "## Fill missing values"
   ]
  },
  {
   "cell_type": "markdown",
   "metadata": {
    "colab_type": "text",
    "id": "_Z8oQtTare8N"
   },
   "source": [
    "After filling the missing values we will normalise the data using standard scaler."
   ]
  },
  {
   "cell_type": "code",
   "execution_count": 0,
   "metadata": {
    "colab": {},
    "colab_type": "code",
    "id": "brVUNzYvChmE"
   },
   "outputs": [],
   "source": [
    "from sklearn.impute import KNNImputer\n",
    "imputer = KNNImputer(n_neighbors=5)\n",
    "df_filled = imputer.fit_transform(df_train)"
   ]
  },
  {
   "cell_type": "code",
   "execution_count": 0,
   "metadata": {
    "colab": {},
    "colab_type": "code",
    "id": "FILY5AKxrE6m"
   },
   "outputs": [],
   "source": [
    "df_filled = preprocessing.StandardScaler().fit_transform(df_filled)"
   ]
  },
  {
   "cell_type": "code",
   "execution_count": 0,
   "metadata": {
    "colab": {
     "base_uri": "https://localhost:8080/",
     "height": 162
    },
    "colab_type": "code",
    "id": "jjUyPO4eEH-5",
    "outputId": "85fe791d-fc56-4771-c909-b1bb016fad4f"
   },
   "outputs": [
    {
     "data": {
      "text/html": [
       "<div>\n",
       "<style scoped>\n",
       "    .dataframe tbody tr th:only-of-type {\n",
       "        vertical-align: middle;\n",
       "    }\n",
       "\n",
       "    .dataframe tbody tr th {\n",
       "        vertical-align: top;\n",
       "    }\n",
       "\n",
       "    .dataframe thead th {\n",
       "        text-align: right;\n",
       "    }\n",
       "</style>\n",
       "<table border=\"1\" class=\"dataframe\">\n",
       "  <thead>\n",
       "    <tr style=\"text-align: right;\">\n",
       "      <th></th>\n",
       "      <th>sector</th>\n",
       "      <th>earnings_implied_obs</th>\n",
       "      <th>delta_vol_1w</th>\n",
       "      <th>delta_vol_1y</th>\n",
       "      <th>return_1w</th>\n",
       "      <th>return_1m</th>\n",
       "      <th>return_1y</th>\n",
       "      <th>implied_vol_3m</th>\n",
       "      <th>realised_vol_1w</th>\n",
       "      <th>realised_vol_1m</th>\n",
       "      <th>realised_vol_1y</th>\n",
       "      <th>ratio_put_call</th>\n",
       "      <th>publication_date_funda</th>\n",
       "      <th>exchange</th>\n",
       "      <th>net_income</th>\n",
       "      <th>shareholders_equity</th>\n",
       "      <th>net_debt</th>\n",
       "      <th>ebitda</th>\n",
       "      <th>ebit</th>\n",
       "      <th>sales</th>\n",
       "      <th>cash_flow</th>\n",
       "      <th>payout_ratio</th>\n",
       "      <th>Target</th>\n",
       "    </tr>\n",
       "  </thead>\n",
       "  <tbody>\n",
       "    <tr>\n",
       "      <th>0</th>\n",
       "      <td>4700</td>\n",
       "      <td>-0.149878</td>\n",
       "      <td>-0.183492</td>\n",
       "      <td>-0.084173</td>\n",
       "      <td>0.556348</td>\n",
       "      <td>-0.045019</td>\n",
       "      <td>0.349952</td>\n",
       "      <td>-0.948229</td>\n",
       "      <td>-0.803235</td>\n",
       "      <td>-0.748458</td>\n",
       "      <td>-0.403664</td>\n",
       "      <td>0.206212</td>\n",
       "      <td>1.474862</td>\n",
       "      <td>1</td>\n",
       "      <td>-0.033193</td>\n",
       "      <td>0.959266</td>\n",
       "      <td>0.071839</td>\n",
       "      <td>1.184700</td>\n",
       "      <td>1.004863</td>\n",
       "      <td>0.004849</td>\n",
       "      <td>0.388602</td>\n",
       "      <td>0.333115</td>\n",
       "      <td>0</td>\n",
       "    </tr>\n",
       "    <tr>\n",
       "      <th>1</th>\n",
       "      <td>4700</td>\n",
       "      <td>-0.364892</td>\n",
       "      <td>-0.246451</td>\n",
       "      <td>-0.010001</td>\n",
       "      <td>0.841935</td>\n",
       "      <td>-0.017906</td>\n",
       "      <td>0.171702</td>\n",
       "      <td>-1.067004</td>\n",
       "      <td>-0.620218</td>\n",
       "      <td>-0.810111</td>\n",
       "      <td>-0.449378</td>\n",
       "      <td>0.360291</td>\n",
       "      <td>-1.321992</td>\n",
       "      <td>1</td>\n",
       "      <td>0.065589</td>\n",
       "      <td>0.935095</td>\n",
       "      <td>0.049292</td>\n",
       "      <td>1.005031</td>\n",
       "      <td>0.789141</td>\n",
       "      <td>-0.029252</td>\n",
       "      <td>0.327551</td>\n",
       "      <td>0.000251</td>\n",
       "      <td>0</td>\n",
       "    </tr>\n",
       "    <tr>\n",
       "      <th>2</th>\n",
       "      <td>4700</td>\n",
       "      <td>0.134998</td>\n",
       "      <td>0.358546</td>\n",
       "      <td>-0.638807</td>\n",
       "      <td>-0.222910</td>\n",
       "      <td>-0.516510</td>\n",
       "      <td>-0.276235</td>\n",
       "      <td>-1.017633</td>\n",
       "      <td>-0.594958</td>\n",
       "      <td>-0.953209</td>\n",
       "      <td>-1.135869</td>\n",
       "      <td>0.481084</td>\n",
       "      <td>0.451852</td>\n",
       "      <td>1</td>\n",
       "      <td>0.066110</td>\n",
       "      <td>0.942210</td>\n",
       "      <td>0.050111</td>\n",
       "      <td>1.012447</td>\n",
       "      <td>0.795215</td>\n",
       "      <td>-0.026761</td>\n",
       "      <td>0.330187</td>\n",
       "      <td>0.000251</td>\n",
       "      <td>0</td>\n",
       "    </tr>\n",
       "  </tbody>\n",
       "</table>\n",
       "</div>"
      ],
      "text/plain": [
       "   sector  earnings_implied_obs  delta_vol_1w  ...  cash_flow  payout_ratio  Target\n",
       "0    4700             -0.149878     -0.183492  ...   0.388602      0.333115       0\n",
       "1    4700             -0.364892     -0.246451  ...   0.327551      0.000251       0\n",
       "2    4700              0.134998      0.358546  ...   0.330187      0.000251       0\n",
       "\n",
       "[3 rows x 23 columns]"
      ]
     },
     "execution_count": 12,
     "metadata": {
      "tags": []
     },
     "output_type": "execute_result"
    }
   ],
   "source": [
    "df_processed = pd.DataFrame(df_filled, columns=df_train.columns); \n",
    "df_processed[\"exchange\"] = df_train[\"exchange\"] # categorical\n",
    "df_processed[\"sector\"]= df_train[\"sector\"]  # categorical\n",
    "df_processed[\"Target\"] = sp_y_train; df_processed.head(3) "
   ]
  },
  {
   "cell_type": "code",
   "execution_count": 0,
   "metadata": {
    "colab": {
     "base_uri": "https://localhost:8080/",
     "height": 34
    },
    "colab_type": "code",
    "id": "w8FKkFvf0zZw",
    "outputId": "832163c0-7ebf-4eeb-984e-13e3c9ceb3c8"
   },
   "outputs": [
    {
     "data": {
      "text/plain": [
       "0"
      ]
     },
     "execution_count": 13,
     "metadata": {
      "tags": []
     },
     "output_type": "execute_result"
    }
   ],
   "source": [
    "df_processed[\"Target\"].isna().sum()"
   ]
  },
  {
   "cell_type": "code",
   "execution_count": 0,
   "metadata": {
    "colab": {
     "base_uri": "https://localhost:8080/",
     "height": 68
    },
    "colab_type": "code",
    "id": "U9Hqyz6tHiEt",
    "outputId": "4fa173c4-36a5-451e-ab22-b07d5ba523ad"
   },
   "outputs": [
    {
     "data": {
      "text/plain": [
       "0    73.231032\n",
       "1    26.768968\n",
       "Name: Target, dtype: float64"
      ]
     },
     "execution_count": 14,
     "metadata": {
      "tags": []
     },
     "output_type": "execute_result"
    }
   ],
   "source": [
    "df_processed[\"Target\"].value_counts()*100/len(df_processed)"
   ]
  },
  {
   "cell_type": "code",
   "execution_count": 0,
   "metadata": {
    "colab": {
     "base_uri": "https://localhost:8080/",
     "height": 296
    },
    "colab_type": "code",
    "id": "QMyNqqetYTml",
    "outputId": "1b34beb3-3afb-49a6-dbdc-a32e1d455431"
   },
   "outputs": [
    {
     "data": {
      "text/plain": [
       "<matplotlib.axes._subplots.AxesSubplot at 0x7f76941ee860>"
      ]
     },
     "execution_count": 15,
     "metadata": {
      "tags": []
     },
     "output_type": "execute_result"
    },
    {
     "data": {
      "image/png": "[encoded data removed]",
      "text/plain": [
       "<Figure size 432x288 with 1 Axes>"
      ]
     },
     "metadata": {
      "needs_background": "light",
      "tags": []
     },
     "output_type": "display_data"
    }
   ],
   "source": [
    "sns.boxplot(x=\"Target\", y=\"sector\", data=df_processed)\n"
   ]
  },
  {
   "cell_type": "markdown",
   "metadata": {
    "colab_type": "text",
    "id": "D_hGboCng7bs"
   },
   "source": [
    "The dataset seems to be highly unbalanced. I will try to deal with that using to simple stratagies : class_weights and oversampling."
   ]
  },
  {
   "cell_type": "markdown",
   "metadata": {
    "colab_type": "text",
    "id": "CZM5hQUPr6Nx"
   },
   "source": [
    "## Train-test splitting"
   ]
  },
  {
   "cell_type": "code",
   "execution_count": 0,
   "metadata": {
    "colab": {},
    "colab_type": "code",
    "id": "_haBrCuase13"
   },
   "outputs": [],
   "source": [
    "from sklearn.model_selection import train_test_split\n",
    "\n",
    "train_df, test_df = train_test_split(df_processed, test_size=0.2)\n",
    "train_df, val_df = train_test_split(train_df, test_size=0.2)\n",
    "\n"
   ]
  },
  {
   "cell_type": "code",
   "execution_count": 0,
   "metadata": {
    "colab": {
     "base_uri": "https://localhost:8080/",
     "height": 68
    },
    "colab_type": "code",
    "id": "b_CVQrrJsfBU",
    "outputId": "b472c660-c305-4fcf-934f-d3fa771deb05"
   },
   "outputs": [
    {
     "data": {
      "text/plain": [
       "0    75.213115\n",
       "1    24.786885\n",
       "Name: Target, dtype: float64"
      ]
     },
     "execution_count": 17,
     "metadata": {
      "tags": []
     },
     "output_type": "execute_result"
    }
   ],
   "source": [
    "test_df[\"Target\"].value_counts()*100/len(test_df)"
   ]
  },
  {
   "cell_type": "code",
   "execution_count": 0,
   "metadata": {
    "colab": {},
    "colab_type": "code",
    "id": "JOtxuhrjhEpc"
   },
   "outputs": [],
   "source": []
  },
  {
   "cell_type": "code",
   "execution_count": 0,
   "metadata": {
    "colab": {},
    "colab_type": "code",
    "id": "uRQrpy3asfIe"
   },
   "outputs": [],
   "source": [
    "df = train_df.copy() # Form np arrays of labels and features.\n",
    "train_labels = np.array(df.pop('Target'))\n",
    "bool_train_labels = train_labels != 0\n",
    "val_labels = np.array(val_df.pop('Target'))\n",
    "test_labels = np.array(test_df.pop('Target'))\n",
    "\n",
    "input_shape = df.shape[-1]\n",
    "\n",
    "train_features = np.array(df).reshape(-1, input_shape, 1)\n",
    "val_features = np.array(val_df).reshape(-1, input_shape, 1)\n",
    "test_features = np.array(test_df).reshape(-1, input_shape, 1)"
   ]
  },
  {
   "cell_type": "code",
   "execution_count": 0,
   "metadata": {
    "colab": {
     "base_uri": "https://localhost:8080/",
     "height": 34
    },
    "colab_type": "code",
    "id": "Xc6S-r32wHOK",
    "outputId": "ae7b4ec6-b61e-4768-eab0-1a08ebaca59b"
   },
   "outputs": [
    {
     "data": {
      "text/plain": [
       "(array([], dtype=int64),)"
      ]
     },
     "execution_count": 19,
     "metadata": {
      "tags": []
     },
     "output_type": "execute_result"
    }
   ],
   "source": [
    "np.where (isnan((train_labels)) == True)"
   ]
  },
  {
   "cell_type": "markdown",
   "metadata": {
    "colab_type": "text",
    "id": "mgVacGUicHc2"
   },
   "source": [
    "## Utils"
   ]
  },
  {
   "cell_type": "code",
   "execution_count": 0,
   "metadata": {
    "colab": {},
    "colab_type": "code",
    "id": "-1hZhO9V7Ych"
   },
   "outputs": [],
   "source": [
    "from keras.layers import *\n",
    "import keras\n",
    "import tensorflow as tf"
   ]
  },
  {
   "cell_type": "code",
   "execution_count": 0,
   "metadata": {
    "colab": {},
    "colab_type": "code",
    "id": "yCc2BB0p7Yfe"
   },
   "outputs": [],
   "source": [
    "from keras import Sequential"
   ]
  },
  {
   "cell_type": "code",
   "execution_count": 0,
   "metadata": {
    "colab": {},
    "colab_type": "code",
    "id": "1tI-afmO7YUy"
   },
   "outputs": [],
   "source": [
    "def build_MLP( input_shape, activation = 'relu', units = [100,100], momentum=0.1, epsilon=1e-05, dropout_rate = 0,\n",
    "              optimizer = 'Adam', loss = 'binary_crossentropy', metrics = ['accuracy']):\n",
    "    \n",
    "    \"\"\"\n",
    "    build a neural network with linear blocks fellowed by non linear activations. Every block consists of\n",
    "     BatchNormalization, Dropout and a  dense layer. The depth of the network can be custumized in parameter \"units\"\n",
    "\n",
    "\n",
    "  \tParameters:\n",
    "    ----------\n",
    "\n",
    "  \tinput_shape : tuple of integers.\n",
    "        Correspond to the shape of the input samples.\n",
    "    units: list of integers.\n",
    "        Define the number of units of every linear block of the network. Thus len(units) define the depth of the network. If \"units\" is an empty list, the built model correspond to a logistic regression preceded by a BatchNormalization.\n",
    "\n",
    "\tReturn:\n",
    "    ------\n",
    "\n",
    "\tmodel : Keras Sequential object\n",
    "\t\t\tCompiled model with a binary crossentropy loss and accuracy metric.\n",
    "\n",
    "    Author : Amine  \n",
    "    \"\"\"\n",
    "\n",
    "\n",
    "    model = Sequential()\n",
    "    model.add(BatchNormalization(axis=1, momentum=momentum, epsilon=epsilon, input_shape = input_shape))\n",
    "    \n",
    "    for n_units in units: \n",
    "      model.add(Dropout(dropout_rate))\n",
    "      model.add(Dense(units=n_units,  activation=activation))\n",
    "      model.add(BatchNormalization(axis=1, momentum=momentum, epsilon=epsilon))\n",
    "\n",
    "    model.add(Dropout(dropout_rate))\n",
    "    model.add(Dense(units=1, activation='softmax'))     \n",
    "    \n",
    "    model.compile(loss= loss , \n",
    "                      optimizer=optimizer, \n",
    "                      metrics=metrics)\n",
    "    \n",
    "    \n",
    "\n",
    "    return model\n",
    "\n",
    "def build_CNN(input_shape, filters= [3], kernels = [4], activation = 'relu', optimizer= 'Adam', metrics = ['accuracy'], output_bias=None, dropout = 0.5, reg = 0):\n",
    "    \n",
    "    \"\"\"\n",
    "    build a  convolutionnal neural network . Every block consists of BatchNormalization, Dropout and a \n",
    "    1 dimensionnal   convolution. The depth of the network can be custumized in parameters  \"kernels\" \n",
    "    and \"filters\". It correspond to max ( len(filters), len(kernels)).\n",
    "\n",
    "\n",
    "    Parameters:\n",
    "    ----------\n",
    "    input_shape : tuple of integers\n",
    "        Correspond to the shape of the input samples.\n",
    "    filters: list of integers\n",
    "        Define the number of filters  of every 1 dimensionnal convolution. \n",
    "    kernels : list of integers\n",
    "        Define the kernel size of the filters  of every 1 dimensionnal convolution. \n",
    "    Return:\n",
    "    ------\n",
    "\n",
    "    model : Keras Sequential object\n",
    "        Compiled model with a binary crossentropy loss and accuracy metric.\n",
    "    Author : Amine.  \n",
    "\n",
    "    \"\"\"\n",
    "    if output_bias is not None:\n",
    "      output_bias = keras.initializers.Constant(output_bias)\n",
    "    model = Sequential()\n",
    "    model.add(BatchNormalization(axis=1, momentum=0.1, epsilon=1e-05, input_shape = input_shape))\n",
    "    model.add( Conv1D(filters=3, kernel_size= 4, strides =1, activation = activation))\n",
    "    for (f, k) in zip(filters, kernels):\n",
    "        \n",
    "        model.add(BatchNormalization(axis=1, momentum=0.1, epsilon=1e-05))\n",
    "        model.add(Dropout(dropout))\n",
    "        model.add(Conv1D(filters=f, kernel_size= k, strides =1,kernel_regularizer=regularizers.l2(reg), bias_regularizer=regularizers.l2(reg), activation = activation))\n",
    "        model.add(MaxPooling1D())\n",
    "\n",
    "    model.add(Flatten())\n",
    "    model.add(BatchNormalization(axis=1, momentum=0.1, epsilon=1e-05))\n",
    "    model.add(Dropout(0.1))\n",
    "    model.add(Dense(units=1, activation='sigmoid', bias_initializer=output_bias, kernel_regularizer=regularizers.l2(reg), bias_regularizer=regularizers.l2(reg))) \n",
    "\n",
    "\n",
    "\n",
    "    model.compile(loss='binary_crossentropy', optimizer=optimizer, metrics=metrics)\n",
    "\n",
    "\n",
    "    return model \n",
    "\n"
   ]
  },
  {
   "cell_type": "code",
   "execution_count": 0,
   "metadata": {
    "colab": {},
    "colab_type": "code",
    "id": "5WNECv6HbLZ9"
   },
   "outputs": [],
   "source": [
    "def plot_metrics(history):\n",
    "  metrics =  ['loss', 'auc',\"accuracy\"]\n",
    "  for n, metric in enumerate(metrics):\n",
    "    name = metric.replace(\"_\",\" \").capitalize()\n",
    "    plt.subplot(2,2,n+1)\n",
    "    plt.plot(history.epoch,  history.history[metric], color=colors[0], label='Train')\n",
    "    plt.plot(history.epoch, history.history['val_'+metric],\n",
    "             color=colors[0], linestyle=\"--\", label='Val')\n",
    "    plt.xlabel('Epoch')\n",
    "    plt.ylabel(name)\n",
    "    if metric == 'loss':\n",
    "      plt.ylim([0, plt.ylim()[1]])\n",
    "    elif metric == 'auc':\n",
    "      plt.ylim([0.8,1])\n",
    "    else:\n",
    "      plt.ylim([0,1])\n",
    "\n",
    "    plt.legend()"
   ]
  },
  {
   "cell_type": "code",
   "execution_count": 0,
   "metadata": {
    "colab": {},
    "colab_type": "code",
    "id": "iyV0CqrFbQHV"
   },
   "outputs": [],
   "source": [
    "from sklearn.metrics import confusion_matrix\n",
    "\n",
    "def plot_cm(labels, predictions, p=0.5):\n",
    "  cm = confusion_matrix(labels, predictions > p)\n",
    "  plt.figure(figsize=(5,5))\n",
    "  sns.heatmap(cm, annot=True, fmt=\"d\")\n",
    "  plt.title('Confusion matrix @{:.2f}'.format(p))\n",
    "  plt.ylabel('Actual label')\n",
    "  plt.xlabel('Predicted label')\n",
    "\n",
    "  print('True Negatives: ', cm[0][0])\n",
    "  print('False Positives: ', cm[0][1])\n",
    "  print('False Negatives: ', cm[1][0])\n",
    "  print('True Positives: ', cm[1][1])\n",
    "  print('Total : ', np.sum(cm[1]))"
   ]
  },
  {
   "cell_type": "markdown",
   "metadata": {
    "colab_type": "text",
    "id": "JHG2tdRphq39"
   },
   "source": [
    "## A convolutionnal neural network"
   ]
  },
  {
   "cell_type": "code",
   "execution_count": 0,
   "metadata": {
    "colab": {},
    "colab_type": "code",
    "id": "85gHtzvw7YNc"
   },
   "outputs": [],
   "source": [
    "METRICS = [\n",
    "     # keras.metrics.TruePositives(name='tp'),\n",
    "     # keras.metrics.FalsePositives(name='fp'),\n",
    "     # keras.metrics.TrueNegatives(name='tn'),\n",
    "     # keras.metrics.FalseNegatives(name='fn'), \n",
    "      keras.metrics.BinaryAccuracy(name='accuracy'),\n",
    "     # keras.metrics.Precision(name='precision'),\n",
    "      #keras.metrics.Recall(name='recall'),\n",
    "      keras.metrics.AUC(name='auc'),\n",
    "]"
   ]
  },
  {
   "cell_type": "code",
   "execution_count": 0,
   "metadata": {
    "colab": {},
    "colab_type": "code",
    "id": "AWQj5cfJauXQ"
   },
   "outputs": [],
   "source": [
    "EPOCHS = 100\n",
    "BATCH_SIZE = 2048\n",
    "\n",
    "early_stopping = keras.callbacks.EarlyStopping(\n",
    "    monitor='val_auc', \n",
    "    verbose=1,\n",
    "    patience=10,\n",
    "    mode='max',\n",
    "    restore_best_weights=True)"
   ]
  },
  {
   "cell_type": "code",
   "execution_count": 0,
   "metadata": {
    "colab": {
     "base_uri": "https://localhost:8080/",
     "height": 629
    },
    "colab_type": "code",
    "id": "JTJdTwgpawiB",
    "outputId": "7d4ae4bb-512b-4842-85b4-fa5193d454e9"
   },
   "outputs": [
    {
     "name": "stdout",
     "output_type": "stream",
     "text": [
      "Model: \"sequential_9\"\n",
      "_________________________________________________________________\n",
      "Layer (type)                 Output Shape              Param #   \n",
      "=================================================================\n",
      "batch_normalization_30 (Batc (None, 22, 1)             88        \n",
      "_________________________________________________________________\n",
      "conv1d_23 (Conv1D)           (None, 19, 3)             15        \n",
      "_________________________________________________________________\n",
      "batch_normalization_31 (Batc (None, 19, 3)             76        \n",
      "_________________________________________________________________\n",
      "dropout_22 (Dropout)         (None, 19, 3)             0         \n",
      "_________________________________________________________________\n",
      "conv1d_24 (Conv1D)           (None, 16, 30)            390       \n",
      "_________________________________________________________________\n",
      "max_pooling1d_15 (MaxPooling (None, 8, 30)             0         \n",
      "_________________________________________________________________\n",
      "batch_normalization_32 (Batc (None, 8, 30)             32        \n",
      "_________________________________________________________________\n",
      "dropout_23 (Dropout)         (None, 8, 30)             0         \n",
      "_________________________________________________________________\n",
      "conv1d_25 (Conv1D)           (None, 5, 30)             3630      \n",
      "_________________________________________________________________\n",
      "max_pooling1d_16 (MaxPooling (None, 2, 30)             0         \n",
      "_________________________________________________________________\n",
      "flatten_8 (Flatten)          (None, 60)                0         \n",
      "_________________________________________________________________\n",
      "batch_normalization_33 (Batc (None, 60)                240       \n",
      "_________________________________________________________________\n",
      "dropout_24 (Dropout)         (None, 60)                0         \n",
      "_________________________________________________________________\n",
      "dense_8 (Dense)              (None, 1)                 61        \n",
      "=================================================================\n",
      "Total params: 4,532\n",
      "Trainable params: 4,314\n",
      "Non-trainable params: 218\n",
      "_________________________________________________________________\n"
     ]
    }
   ],
   "source": [
    "input_shape=(train_features.shape[1],1)\n",
    "model = build_CNN(input_shape = input_shape, filters = [30,30], kernels = [4,4], output_bias= 0)\n",
    "model.summary()\n"
   ]
  },
  {
   "cell_type": "code",
   "execution_count": 0,
   "metadata": {
    "colab": {
     "base_uri": "https://localhost:8080/",
     "height": 34
    },
    "colab_type": "code",
    "id": "TnL-R-L97Yio",
    "outputId": "295e7c2e-ce8a-4a5b-9ac3-fcca1d37bc69"
   },
   "outputs": [
    {
     "name": "stdout",
     "output_type": "stream",
     "text": [
      "Loss: 2.9494\n"
     ]
    }
   ],
   "source": [
    "results = model.evaluate(train_features, train_labels, batch_size=BATCH_SIZE, verbose=0)\n",
    "print(\"Loss: {:0.4f}\".format(results[0]))"
   ]
  },
  {
   "cell_type": "code",
   "execution_count": null,
   "metadata": {
    "colab": {
     "base_uri": "https://localhost:8080/",
     "height": 1000
    },
    "colab_type": "code",
    "id": "hR6nGN9Qiv1f",
    "outputId": "91d2f7a7-56a9-461f-8d5f-2206bde20586"
   },
   "outputs": [],
   "source": [
    "metrics =[\"accuracy\",keras.metrics.AUC(name='auc')] \n",
    "model.compile(loss='binary_crossentropy', optimizer='Adam', metrics=metrics)\n",
    "hist = model.fit(\n",
    "    train_features,\n",
    "    train_labels,\n",
    "    batch_size=300,\n",
    "    epochs=1000,\n",
    "    #callbacks = [early_stopping],\n",
    "    validation_data=(val_features, val_labels))\n",
    "    # The class weights go here\n",
    "    #class_weight=class_weight) \n",
    "\n"
   ]
  },
  {
   "cell_type": "code",
   "execution_count": 0,
   "metadata": {
    "colab": {
     "base_uri": "https://localhost:8080/",
     "height": 606
    },
    "colab_type": "code",
    "id": "tQlpUauVnnYK",
    "outputId": "2414b750-cf7a-4cce-d9fe-d88eee3716dc"
   },
   "outputs": [
    {
     "data": {
      "image/png": "[encoded data removed]",
      "text/plain": [
       "<Figure size 864x720 with 1 Axes>"
      ]
     },
     "metadata": {
      "needs_background": "light",
      "tags": []
     },
     "output_type": "display_data"
    }
   ],
   "source": [
    "plot_loss(hist, \"Without Bias\", 0)"
   ]
  },
  {
   "cell_type": "markdown",
   "metadata": {
    "colab_type": "text",
    "id": "w1n56YGrnUVG"
   },
   "source": [
    "## Bias initialisation "
   ]
  },
  {
   "cell_type": "code",
   "execution_count": 0,
   "metadata": {
    "colab": {
     "base_uri": "https://localhost:8080/",
     "height": 85
    },
    "colab_type": "code",
    "id": "66Yls9MQfswN",
    "outputId": "3022ad48-48bb-4d75-bbd5-ec9bfa43263c"
   },
   "outputs": [
    {
     "name": "stdout",
     "output_type": "stream",
     "text": [
      "Examples:\n",
      "    Total: 15249\n",
      "    Positive: 4082 (26.77% of total)\n",
      "\n"
     ]
    }
   ],
   "source": [
    "neg, pos = np.bincount(df_train['Target'])\n",
    "total = neg + pos\n",
    "print('Examples:\\n    Total: {}\\n    Positive: {} ({:.2f}% of total)\\n'.format(\n",
    "    total, pos, 100 * pos / total))"
   ]
  },
  {
   "cell_type": "code",
   "execution_count": 0,
   "metadata": {
    "colab": {
     "base_uri": "https://localhost:8080/",
     "height": 34
    },
    "colab_type": "code",
    "id": "0aw0oreT7Yle",
    "outputId": "ca2d7662-2a38-4d54-a110-36cac68cefb6"
   },
   "outputs": [
    {
     "data": {
      "text/plain": [
       "array([-1.00637594])"
      ]
     },
     "execution_count": 107,
     "metadata": {
      "tags": []
     },
     "output_type": "execute_result"
    }
   ],
   "source": [
    "initial_bias = np.log([pos/neg])\n",
    "initial_bias"
   ]
  },
  {
   "cell_type": "code",
   "execution_count": 0,
   "metadata": {
    "colab": {},
    "colab_type": "code",
    "id": "VYlAjxr5a5Kq"
   },
   "outputs": [],
   "source": [
    "import os\n",
    "import tempfile\n",
    "initial_weights = os.path.join(tempfile.mkdtemp(),'initial_weights')\n",
    "model.save_weights(initial_weights)"
   ]
  },
  {
   "cell_type": "markdown",
   "metadata": {
    "colab_type": "text",
    "id": "kR11oyPVjQFv"
   },
   "source": [
    "### With the first model"
   ]
  },
  {
   "cell_type": "code",
   "execution_count": 0,
   "metadata": {
    "colab": {
     "base_uri": "https://localhost:8080/",
     "height": 629
    },
    "colab_type": "code",
    "id": "8FVRym_CnI42",
    "outputId": "f0341471-34b6-41b5-dad1-6938df04072a"
   },
   "outputs": [
    {
     "name": "stdout",
     "output_type": "stream",
     "text": [
      "Model: \"sequential_4\"\n",
      "_________________________________________________________________\n",
      "Layer (type)                 Output Shape              Param #   \n",
      "=================================================================\n",
      "batch_normalization_13 (Batc (None, 22, 1)             88        \n",
      "_________________________________________________________________\n",
      "conv1d_10 (Conv1D)           (None, 19, 3)             15        \n",
      "_________________________________________________________________\n",
      "batch_normalization_14 (Batc (None, 19, 3)             76        \n",
      "_________________________________________________________________\n",
      "dropout_10 (Dropout)         (None, 19, 3)             0         \n",
      "_________________________________________________________________\n",
      "conv1d_11 (Conv1D)           (None, 16, 30)            390       \n",
      "_________________________________________________________________\n",
      "max_pooling1d_7 (MaxPooling1 (None, 8, 30)             0         \n",
      "_________________________________________________________________\n",
      "batch_normalization_15 (Batc (None, 8, 30)             32        \n",
      "_________________________________________________________________\n",
      "dropout_11 (Dropout)         (None, 8, 30)             0         \n",
      "_________________________________________________________________\n",
      "conv1d_12 (Conv1D)           (None, 5, 30)             3630      \n",
      "_________________________________________________________________\n",
      "max_pooling1d_8 (MaxPooling1 (None, 2, 30)             0         \n",
      "_________________________________________________________________\n",
      "flatten_4 (Flatten)          (None, 60)                0         \n",
      "_________________________________________________________________\n",
      "batch_normalization_16 (Batc (None, 60)                240       \n",
      "_________________________________________________________________\n",
      "dropout_12 (Dropout)         (None, 60)                0         \n",
      "_________________________________________________________________\n",
      "dense_4 (Dense)              (None, 1)                 61        \n",
      "=================================================================\n",
      "Total params: 4,532\n",
      "Trainable params: 4,314\n",
      "Non-trainable params: 218\n",
      "_________________________________________________________________\n"
     ]
    }
   ],
   "source": [
    "input_shape=(train_features.shape[1],1)\n",
    "model = build_CNN(input_shape = input_shape, filters = [30,30], kernels = [4,4], output_bias= initial_bias, dropout = 0.2)\n",
    "model.summary()"
   ]
  },
  {
   "cell_type": "code",
   "execution_count": 0,
   "metadata": {
    "colab": {},
    "colab_type": "code",
    "id": "st08JNM6nSlR"
   },
   "outputs": [],
   "source": [
    "metrics =[\"accuracy\",keras.metrics.AUC(name='auc')] \n",
    "model.compile(loss='binary_crossentropy', optimizer='Adam', metrics=metrics)\n",
    "hist_bias = model.fit(\n",
    "    train_features,\n",
    "    train_labels,\n",
    "    batch_size=300,\n",
    "    epochs=1000,\n",
    "    #callbacks = [early_stopping],\n",
    "    validation_data=(val_features, val_labels))\n",
    "    # The class weights go here\n",
    "    #class_weight=class_weight) "
   ]
  },
  {
   "cell_type": "code",
   "execution_count": 0,
   "metadata": {
    "colab": {},
    "colab_type": "code",
    "id": "QSqOW8R3a-tY"
   },
   "outputs": [],
   "source": [
    "def plot_loss(history, label, n):\n",
    "  # Use a log scale to show the wide range of values.\n",
    "  plt.semilogy(history.epoch,  history.history['loss'],\n",
    "               color=colors[n], label='Train '+label)\n",
    "  plt.semilogy(history.epoch,  history.history['val_loss'],\n",
    "          color=colors[n], label='Val '+label,\n",
    "          linestyle=\"--\")\n",
    "  plt.xlabel('Epoch')\n",
    "  plt.ylabel('Loss')\n",
    "  \n",
    "  plt.legend()"
   ]
  },
  {
   "cell_type": "code",
   "execution_count": 0,
   "metadata": {
    "colab": {
     "base_uri": "https://localhost:8080/",
     "height": 606
    },
    "colab_type": "code",
    "id": "p_IWBgqWbBA-",
    "outputId": "b8e944c3-902a-41f6-e82a-bada3b28ae4f"
   },
   "outputs": [
    {
     "data": {
      "image/png": "[encoded data removed]",
      "text/plain": [
       "<Figure size 864x720 with 1 Axes>"
      ]
     },
     "metadata": {
      "needs_background": "light",
      "tags": []
     },
     "output_type": "display_data"
    }
   ],
   "source": [
    "#plot_loss(zero_bias_history, \"Zero Bias\", 0)\n",
    "plot_loss(hist_bias, \"Careful Bias\", 1)"
   ]
  },
  {
   "cell_type": "code",
   "execution_count": 0,
   "metadata": {
    "colab": {},
    "colab_type": "code",
    "id": "7LRgZ_fXbP_p"
   },
   "outputs": [],
   "source": [
    "train_predictions_baseline = model.predict(train_features, batch_size=BATCH_SIZE)\n",
    "test_predictions_baseline = model.predict(test_features, batch_size=BATCH_SIZE)"
   ]
  },
  {
   "cell_type": "code",
   "execution_count": 0,
   "metadata": {
    "colab": {
     "base_uri": "https://localhost:8080/",
     "height": 503
    },
    "colab_type": "code",
    "id": "y6IcO_sxle-R",
    "outputId": "66fcb21e-59bc-4d82-d819-3040d80f911d"
   },
   "outputs": [
    {
     "name": "stdout",
     "output_type": "stream",
     "text": [
      "loss :  0.5769532801675015\n",
      "accuracy :  0.7321311235427856\n",
      "auc :  0.5790770649909973\n",
      "\n",
      "True Negatives:  2212\n",
      "False Positives:  27\n",
      "False Negatives:  790\n",
      "True Positives:  21\n",
      "Total :  811\n"
     ]
    },
    {
     "data": {
      "image/png": "[encoded data removed]",
      "text/plain": [
       "<Figure size 360x360 with 2 Axes>"
      ]
     },
     "metadata": {
      "needs_background": "light",
      "tags": []
     },
     "output_type": "display_data"
    }
   ],
   "source": [
    "baseline_results = model.evaluate(test_features, test_labels,\n",
    "                                  batch_size=300, verbose=0)\n",
    "for name, value in zip(model.metrics_names, baseline_results):\n",
    "  print(name, ': ', value)\n",
    "print()\n",
    "\n",
    "plot_cm(test_labels, test_predictions_baseline)\n"
   ]
  },
  {
   "cell_type": "markdown",
   "metadata": {
    "colab_type": "text",
    "id": "f1suqFmji9Sf"
   },
   "source": [
    "### A second model"
   ]
  },
  {
   "cell_type": "code",
   "execution_count": 0,
   "metadata": {
    "colab": {
     "base_uri": "https://localhost:8080/",
     "height": 765
    },
    "colab_type": "code",
    "id": "21LK7qmZoW6_",
    "outputId": "ff4ea372-9fad-4307-8ff0-f3533dd81c3d"
   },
   "outputs": [
    {
     "name": "stdout",
     "output_type": "stream",
     "text": [
      "Model: \"sequential_8\"\n",
      "_________________________________________________________________\n",
      "Layer (type)                 Output Shape              Param #   \n",
      "=================================================================\n",
      "batch_normalization_30 (Batc (None, 22, 1)             88        \n",
      "_________________________________________________________________\n",
      "conv1d_25 (Conv1D)           (None, 19, 3)             15        \n",
      "_________________________________________________________________\n",
      "batch_normalization_31 (Batc (None, 19, 3)             76        \n",
      "_________________________________________________________________\n",
      "dropout_23 (Dropout)         (None, 19, 3)             0         \n",
      "_________________________________________________________________\n",
      "conv1d_26 (Conv1D)           (None, 17, 40)            400       \n",
      "_________________________________________________________________\n",
      "max_pooling1d_18 (MaxPooling (None, 8, 40)             0         \n",
      "_________________________________________________________________\n",
      "batch_normalization_32 (Batc (None, 8, 40)             32        \n",
      "_________________________________________________________________\n",
      "dropout_24 (Dropout)         (None, 8, 40)             0         \n",
      "_________________________________________________________________\n",
      "conv1d_27 (Conv1D)           (None, 6, 40)             4840      \n",
      "_________________________________________________________________\n",
      "max_pooling1d_19 (MaxPooling (None, 3, 40)             0         \n",
      "_________________________________________________________________\n",
      "batch_normalization_33 (Batc (None, 3, 40)             12        \n",
      "_________________________________________________________________\n",
      "dropout_25 (Dropout)         (None, 3, 40)             0         \n",
      "_________________________________________________________________\n",
      "conv1d_28 (Conv1D)           (None, 2, 15)             1215      \n",
      "_________________________________________________________________\n",
      "max_pooling1d_20 (MaxPooling (None, 1, 15)             0         \n",
      "_________________________________________________________________\n",
      "flatten_6 (Flatten)          (None, 15)                0         \n",
      "_________________________________________________________________\n",
      "batch_normalization_34 (Batc (None, 15)                60        \n",
      "_________________________________________________________________\n",
      "dropout_26 (Dropout)         (None, 15)                0         \n",
      "_________________________________________________________________\n",
      "dense_6 (Dense)              (None, 1)                 16        \n",
      "=================================================================\n",
      "Total params: 6,754\n",
      "Trainable params: 6,620\n",
      "Non-trainable params: 134\n",
      "_________________________________________________________________\n"
     ]
    }
   ],
   "source": [
    "input_shape=(train_features.shape[1],1)\n",
    "model2 = build_CNN(input_shape = input_shape, filters = [40,40, 15], kernels = [3,3, 2], output_bias= initial_bias, dropout= 0.1)\n",
    "model2.summary()"
   ]
  },
  {
   "cell_type": "code",
   "execution_count": 0,
   "metadata": {
    "colab": {},
    "colab_type": "code",
    "id": "Jgw3iM8FoiXE"
   },
   "outputs": [],
   "source": [
    "metrics =[\"accuracy\",keras.metrics.AUC(name='auc')] \n",
    "model2.compile(loss='binary_crossentropy', optimizer='Adam', metrics=metrics)\n",
    "hist2 = model2.fit(\n",
    "    train_features,\n",
    "    train_labels,\n",
    "    batch_size=300,\n",
    "    epochs=1000,\n",
    "    #callbacks = [early_stopping],\n",
    "    validation_data=(val_features, val_labels))\n",
    "    # The class weights go here\n",
    "    #class_weight=class_weight) "
   ]
  },
  {
   "cell_type": "code",
   "execution_count": null,
   "metadata": {
    "colab": {
     "base_uri": "https://localhost:8080/",
     "height": 768
    },
    "colab_type": "code",
    "id": "hWl6uOKx4ZZc",
    "outputId": "87a6489b-fce5-452d-e021-8844e7d7a64a"
   },
   "outputs": [],
   "source": [
    "#model.compile(loss='binary_crossentropy', optimizer='Adam', metrics=metrics)\n",
    "hist_2 = model2.fit(\n",
    "    train_features,\n",
    "    train_labels,\n",
    "    batch_size=300,\n",
    "    epochs=200,\n",
    "    callbacks = [early_stopping],\n",
    "    validation_data=(val_features, val_labels))\n",
    "    # The class weights go here\n",
    "    #class_weight=class_weight) "
   ]
  },
  {
   "cell_type": "markdown",
   "metadata": {
    "colab_type": "text",
    "id": "oqjEvJ6NiHS-"
   },
   "source": [
    "### Baseline performance "
   ]
  },
  {
   "cell_type": "code",
   "execution_count": 0,
   "metadata": {
    "colab": {
     "base_uri": "https://localhost:8080/",
     "height": 503
    },
    "colab_type": "code",
    "id": "aBssYsUAC96u",
    "outputId": "a370e7a7-c2a3-4a9d-9ba6-0334a47fe810"
   },
   "outputs": [
    {
     "name": "stdout",
     "output_type": "stream",
     "text": [
      "loss :  0.4093581143614332\n",
      "accuracy :  0.8241623044013977\n",
      "auc :  0.8768577575683594\n",
      "\n",
      "True Negatives:  6874\n",
      "False Positives:  256\n",
      "False Negatives:  1460\n",
      "True Positives:  1169\n",
      "Total :  2629\n"
     ]
    },
    {
     "data": {
      "image/png": "[encoded data removed]",
      "text/plain": [
       "<Figure size 360x360 with 2 Axes>"
      ]
     },
     "metadata": {
      "needs_background": "light",
      "tags": []
     },
     "output_type": "display_data"
    }
   ],
   "source": [
    "train_predictions_baseline_2 = model2.predict(train_features, batch_size=BATCH_SIZE)\n",
    "baseline_results_2 = model2.evaluate(train_features, train_labels,\n",
    "                                  batch_size=300, verbose=0)\n",
    "for name, value in zip(model2.metrics_names, baseline_results_2):\n",
    "  print(name, ': ', value)\n",
    "print()\n",
    "\n",
    "plot_cm(train_labels, train_predictions_baseline_2)\n"
   ]
  },
  {
   "cell_type": "code",
   "execution_count": 0,
   "metadata": {
    "colab": {
     "base_uri": "https://localhost:8080/",
     "height": 503
    },
    "colab_type": "code",
    "id": "C_hy8kSA5MQU",
    "outputId": "f72cc63d-76dd-4bee-9682-56136e66809d"
   },
   "outputs": [
    {
     "name": "stdout",
     "output_type": "stream",
     "text": [
      "loss :  0.6038111379889192\n",
      "accuracy :  0.7134426236152649\n",
      "auc :  0.5951760411262512\n",
      "\n",
      "True Negatives:  2046\n",
      "False Positives:  193\n",
      "False Negatives:  681\n",
      "True Positives:  130\n",
      "Total :  811\n"
     ]
    },
    {
     "data": {
      "image/png": "[encoded data removed]",
      "text/plain": [
       "<Figure size 360x360 with 2 Axes>"
      ]
     },
     "metadata": {
      "needs_background": "light",
      "tags": []
     },
     "output_type": "display_data"
    }
   ],
   "source": [
    "test_predictions_baseline_2 = model2.predict(test_features, batch_size=BATCH_SIZE)\n",
    "baseline_results_2 = model2.evaluate(test_features, test_labels,\n",
    "                                  batch_size=300, verbose=0)\n",
    "for name, value in zip(model2.metrics_names, baseline_results_2):\n",
    "  print(name, ': ', value)\n",
    "print()\n",
    "\n",
    "plot_cm(test_labels, test_predictions_baseline_2)\n"
   ]
  },
  {
   "cell_type": "code",
   "execution_count": null,
   "metadata": {
    "colab": {
     "base_uri": "https://localhost:8080/",
     "height": 606
    },
    "colab_type": "code",
    "id": "ONSKEidNvyI_",
    "outputId": "956f32bb-2731-4345-aaba-6062556ca4b5"
   },
   "outputs": [],
   "source": [
    "plot_loss(hist_2, \"With Bias and 0.5 dropout\", 1)"
   ]
  },
  {
   "cell_type": "code",
   "execution_count": 0,
   "metadata": {
    "colab": {},
    "colab_type": "code",
    "id": "tayNZXLiwFRY"
   },
   "outputs": [],
   "source": [
    "plot_metrics(hist)"
   ]
  },
  {
   "cell_type": "markdown",
   "metadata": {
    "colab_type": "text",
    "id": "nJ3zeaLQlgAb"
   },
   "source": [
    "## Class weighting approach"
   ]
  },
  {
   "cell_type": "code",
   "execution_count": 0,
   "metadata": {
    "colab": {
     "base_uri": "https://localhost:8080/",
     "height": 51
    },
    "colab_type": "code",
    "id": "cjo_DT3PbQNO",
    "outputId": "a7861ac4-db4f-4207-dbea-15dc244362e1"
   },
   "outputs": [
    {
     "name": "stdout",
     "output_type": "stream",
     "text": [
      "Weight for class 0: 0.68\n",
      "Weight for class 1: 1.87\n"
     ]
    }
   ],
   "source": [
    "# Scaling by total/2 helps keep the loss to a similar magnitude.\n",
    "# The sum of the weights of all examples stays the same.\n",
    "weight_for_0 = (1 / neg)*(total)/2.0 \n",
    "weight_for_1 = (1 / pos)*(total)/2.0\n",
    "\n",
    "class_weight = {0: weight_for_0, 1: weight_for_1}\n",
    "\n",
    "print('Weight for class 0: {:.2f}'.format(weight_for_0))\n",
    "print('Weight for class 1: {:.2f}'.format(weight_for_1))"
   ]
  },
  {
   "cell_type": "code",
   "execution_count": 0,
   "metadata": {
    "colab": {
     "base_uri": "https://localhost:8080/",
     "height": 765
    },
    "colab_type": "code",
    "id": "Uqhv5IDO0bxL",
    "outputId": "561a2db2-bd0c-4091-c46c-c6572359e8d1"
   },
   "outputs": [
    {
     "name": "stdout",
     "output_type": "stream",
     "text": [
      "Model: \"sequential_10\"\n",
      "_________________________________________________________________\n",
      "Layer (type)                 Output Shape              Param #   \n",
      "=================================================================\n",
      "batch_normalization_40 (Batc (None, 22, 1)             88        \n",
      "_________________________________________________________________\n",
      "conv1d_33 (Conv1D)           (None, 19, 3)             15        \n",
      "_________________________________________________________________\n",
      "batch_normalization_41 (Batc (None, 19, 3)             76        \n",
      "_________________________________________________________________\n",
      "dropout_31 (Dropout)         (None, 19, 3)             0         \n",
      "_________________________________________________________________\n",
      "conv1d_34 (Conv1D)           (None, 17, 40)            400       \n",
      "_________________________________________________________________\n",
      "max_pooling1d_24 (MaxPooling (None, 8, 40)             0         \n",
      "_________________________________________________________________\n",
      "batch_normalization_42 (Batc (None, 8, 40)             32        \n",
      "_________________________________________________________________\n",
      "dropout_32 (Dropout)         (None, 8, 40)             0         \n",
      "_________________________________________________________________\n",
      "conv1d_35 (Conv1D)           (None, 6, 40)             4840      \n",
      "_________________________________________________________________\n",
      "max_pooling1d_25 (MaxPooling (None, 3, 40)             0         \n",
      "_________________________________________________________________\n",
      "batch_normalization_43 (Batc (None, 3, 40)             12        \n",
      "_________________________________________________________________\n",
      "dropout_33 (Dropout)         (None, 3, 40)             0         \n",
      "_________________________________________________________________\n",
      "conv1d_36 (Conv1D)           (None, 2, 15)             1215      \n",
      "_________________________________________________________________\n",
      "max_pooling1d_26 (MaxPooling (None, 1, 15)             0         \n",
      "_________________________________________________________________\n",
      "flatten_8 (Flatten)          (None, 15)                0         \n",
      "_________________________________________________________________\n",
      "batch_normalization_44 (Batc (None, 15)                60        \n",
      "_________________________________________________________________\n",
      "dropout_34 (Dropout)         (None, 15)                0         \n",
      "_________________________________________________________________\n",
      "dense_8 (Dense)              (None, 1)                 16        \n",
      "=================================================================\n",
      "Total params: 6,754\n",
      "Trainable params: 6,620\n",
      "Non-trainable params: 134\n",
      "_________________________________________________________________\n"
     ]
    }
   ],
   "source": [
    "weighted_model = build_CNN(input_shape = input_shape, filters = [40,40, 15], kernels = [3,3, 2], output_bias= initial_bias, dropout= 0.1)\n",
    "weighted_model.summary()\n"
   ]
  },
  {
   "cell_type": "code",
   "execution_count": null,
   "metadata": {
    "colab": {
     "base_uri": "https://localhost:8080/",
     "height": 1000
    },
    "colab_type": "code",
    "id": "Sl4j-RQ-bQS7",
    "outputId": "ead5f6b1-8834-463e-83c1-5bb90519693a"
   },
   "outputs": [],
   "source": [
    "#weighted_model.load_weights(initial_weights)\n",
    "\n",
    "metrics =[\"accuracy\", keras.metrics.AUC(name='auc')] \n",
    "weighted_model.compile(loss='binary_crossentropy', optimizer='Adam', metrics=metrics)\n",
    "weighted_history = weighted_model.fit(\n",
    "    train_features,\n",
    "    train_labels,\n",
    "    batch_size=300,\n",
    "    epochs=1000,\n",
    "    #callbacks = [early_stopping],\n",
    "    validation_data=(val_features, val_labels),\n",
    "    # The class weights go here\n",
    "    class_weight=class_weight) \n"
   ]
  },
  {
   "cell_type": "code",
   "execution_count": null,
   "metadata": {
    "colab": {
     "base_uri": "https://localhost:8080/",
     "height": 632
    },
    "colab_type": "code",
    "id": "hNOIT2dQbQnE",
    "outputId": "1ce5af36-4cce-4ff3-a465-c079d3109719"
   },
   "outputs": [],
   "source": [
    "weighted_history = weighted_model.fit(\n",
    "    train_features,\n",
    "    train_labels,\n",
    "    batch_size=200,\n",
    "    epochs=1000,\n",
    "    callbacks = [early_stopping],\n",
    "    validation_data=(val_features, val_labels),\n",
    "    # The class weights go here\n",
    "    class_weight=class_weight) "
   ]
  },
  {
   "cell_type": "code",
   "execution_count": null,
   "metadata": {
    "colab": {
     "base_uri": "https://localhost:8080/",
     "height": 606
    },
    "colab_type": "code",
    "id": "weTbtOSD85gD",
    "outputId": "f89261f1-727d-4235-edea-140b6be75932"
   },
   "outputs": [],
   "source": [
    "plot_loss(weighted_history, \"Weighted Bias\", 1)"
   ]
  },
  {
   "cell_type": "code",
   "execution_count": null,
   "metadata": {
    "colab": {
     "base_uri": "https://localhost:8080/",
     "height": 609
    },
    "colab_type": "code",
    "id": "NYqdRqIb9NGG",
    "outputId": "306d41fe-c6ad-468b-f075-c5fa44eee1f6"
   },
   "outputs": [],
   "source": [
    "plot_metrics(weighted_history)"
   ]
  },
  {
   "cell_type": "markdown",
   "metadata": {
    "colab_type": "text",
    "id": "GQ53pZTUlMta"
   },
   "source": [
    "### weighted model performance"
   ]
  },
  {
   "cell_type": "code",
   "execution_count": 0,
   "metadata": {
    "colab": {
     "base_uri": "https://localhost:8080/",
     "height": 503
    },
    "colab_type": "code",
    "id": "2KmyX76r8QGu",
    "outputId": "818d2abc-dba5-4870-82a9-f855bca1e817"
   },
   "outputs": [
    {
     "name": "stdout",
     "output_type": "stream",
     "text": [
      "loss :  0.6942554770923052\n",
      "accuracy :  0.5783606767654419\n",
      "auc :  0.5878475308418274\n",
      "\n",
      "True Negatives:  1348\n",
      "False Positives:  891\n",
      "False Negatives:  395\n",
      "True Positives:  416\n",
      "Total :  811\n"
     ]
    },
    {
     "data": {
      "image/png": "[encoded data removed]",
      "text/plain": [
       "<Figure size 360x360 with 2 Axes>"
      ]
     },
     "metadata": {
      "needs_background": "light",
      "tags": []
     },
     "output_type": "display_data"
    }
   ],
   "source": [
    "train_predictions_weighted = weighted_model.predict(train_features, batch_size=BATCH_SIZE)\n",
    "test_predictions_weighted = weighted_model.predict(test_features, batch_size=BATCH_SIZE)\n",
    "\n",
    "weighted_results_2 = weighted_model.evaluate(test_features, test_labels,\n",
    "                                  batch_size=300, verbose=0)\n",
    "for name, value in zip(weighted_model.metrics_names, weighted_results_2):\n",
    "  print(name, ': ', value)\n",
    "print()\n",
    "\n",
    "plot_cm(test_labels, test_predictions_weighted)\n"
   ]
  },
  {
   "cell_type": "markdown",
   "metadata": {
    "colab_type": "text",
    "id": "PqhO9tzwp0Ly"
   },
   "source": [
    "## Oversampling"
   ]
  },
  {
   "cell_type": "code",
   "execution_count": 0,
   "metadata": {
    "colab": {},
    "colab_type": "code",
    "id": "-PmkC6OP6-j2"
   },
   "outputs": [],
   "source": [
    "pos_features = train_features[bool_train_labels]\n",
    "neg_features = train_features[~bool_train_labels]\n",
    "\n",
    "pos_labels = train_labels[bool_train_labels]\n",
    "neg_labels = train_labels[~bool_train_labels]"
   ]
  },
  {
   "cell_type": "code",
   "execution_count": 0,
   "metadata": {
    "colab": {
     "base_uri": "https://localhost:8080/",
     "height": 34
    },
    "colab_type": "code",
    "id": "utMa6KCWqism",
    "outputId": "48d7da46-ebb7-402e-8717-06ada3fcdf0e"
   },
   "outputs": [
    {
     "data": {
      "text/plain": [
       "(7130, 22, 1)"
      ]
     },
     "execution_count": 145,
     "metadata": {
      "tags": []
     },
     "output_type": "execute_result"
    }
   ],
   "source": [
    "ids = np.arange(len(pos_features))\n",
    "choices = np.random.choice(ids, len(neg_features))\n",
    "\n",
    "res_pos_features = pos_features[choices]\n",
    "res_pos_labels = pos_labels[choices]\n",
    "\n",
    "res_pos_features.shape"
   ]
  },
  {
   "cell_type": "code",
   "execution_count": 0,
   "metadata": {
    "colab": {
     "base_uri": "https://localhost:8080/",
     "height": 34
    },
    "colab_type": "code",
    "id": "NmKU5KZxqoBi",
    "outputId": "a1d6b120-df74-4fc5-cc71-7da5e44ffe6d"
   },
   "outputs": [
    {
     "data": {
      "text/plain": [
       "(14260, 22, 1)"
      ]
     },
     "execution_count": 146,
     "metadata": {
      "tags": []
     },
     "output_type": "execute_result"
    }
   ],
   "source": [
    "resampled_features = np.concatenate([res_pos_features, neg_features], axis=0)\n",
    "resampled_labels = np.concatenate([res_pos_labels, neg_labels], axis=0)\n",
    "\n",
    "order = np.arange(len(resampled_labels))\n",
    "np.random.shuffle(order)\n",
    "resampled_features = resampled_features[order]\n",
    "resampled_labels = resampled_labels[order]\n",
    "\n",
    "resampled_features.shape"
   ]
  },
  {
   "cell_type": "code",
   "execution_count": 0,
   "metadata": {
    "colab": {
     "base_uri": "https://localhost:8080/",
     "height": 34
    },
    "colab_type": "code",
    "id": "_VNa0vtz-R8q",
    "outputId": "465e99f5-8430-4ecb-f950-505d589d9924"
   },
   "outputs": [
    {
     "data": {
      "text/plain": [
       "11.0"
      ]
     },
     "execution_count": 147,
     "metadata": {
      "tags": []
     },
     "output_type": "execute_result"
    }
   ],
   "source": [
    "resampled_steps_per_epoch = np.ceil(2.0*neg/BATCH_SIZE)\n",
    "resampled_steps_per_epoch"
   ]
  },
  {
   "cell_type": "code",
   "execution_count": 0,
   "metadata": {
    "colab": {
     "base_uri": "https://localhost:8080/",
     "height": 765
    },
    "colab_type": "code",
    "id": "wzAUnQuDbQ6g",
    "outputId": "879257da-05c4-469f-8f12-a4af4fa6e491"
   },
   "outputs": [
    {
     "name": "stdout",
     "output_type": "stream",
     "text": [
      "Model: \"sequential_30\"\n",
      "_________________________________________________________________\n",
      "Layer (type)                 Output Shape              Param #   \n",
      "=================================================================\n",
      "batch_normalization_115 (Bat (None, 22, 1)             88        \n",
      "_________________________________________________________________\n",
      "conv1d_93 (Conv1D)           (None, 19, 3)             15        \n",
      "_________________________________________________________________\n",
      "batch_normalization_116 (Bat (None, 19, 3)             76        \n",
      "_________________________________________________________________\n",
      "dropout_91 (Dropout)         (None, 19, 3)             0         \n",
      "_________________________________________________________________\n",
      "conv1d_94 (Conv1D)           (None, 17, 40)            400       \n",
      "_________________________________________________________________\n",
      "max_pooling1d_69 (MaxPooling (None, 8, 40)             0         \n",
      "_________________________________________________________________\n",
      "batch_normalization_117 (Bat (None, 8, 40)             32        \n",
      "_________________________________________________________________\n",
      "dropout_92 (Dropout)         (None, 8, 40)             0         \n",
      "_________________________________________________________________\n",
      "conv1d_95 (Conv1D)           (None, 6, 40)             4840      \n",
      "_________________________________________________________________\n",
      "max_pooling1d_70 (MaxPooling (None, 3, 40)             0         \n",
      "_________________________________________________________________\n",
      "batch_normalization_118 (Bat (None, 3, 40)             12        \n",
      "_________________________________________________________________\n",
      "dropout_93 (Dropout)         (None, 3, 40)             0         \n",
      "_________________________________________________________________\n",
      "conv1d_96 (Conv1D)           (None, 2, 15)             1215      \n",
      "_________________________________________________________________\n",
      "max_pooling1d_71 (MaxPooling (None, 1, 15)             0         \n",
      "_________________________________________________________________\n",
      "flatten_23 (Flatten)         (None, 15)                0         \n",
      "_________________________________________________________________\n",
      "batch_normalization_119 (Bat (None, 15)                60        \n",
      "_________________________________________________________________\n",
      "dropout_94 (Dropout)         (None, 15)                0         \n",
      "_________________________________________________________________\n",
      "dense_30 (Dense)             (None, 1)                 16        \n",
      "=================================================================\n",
      "Total params: 6,754\n",
      "Trainable params: 6,620\n",
      "Non-trainable params: 134\n",
      "_________________________________________________________________\n"
     ]
    }
   ],
   "source": [
    "resampled_model = build_CNN(input_shape = input_shape, filters = [40,40, 15], kernels = [3,3, 2], output_bias= 0, dropout= 0.1)\n",
    "resampled_model.summary()\n",
    "\n",
    "\n",
    "# Reset the bias to zero, since this dataset is balanced.\n",
    "#output_layer = resampled_model.layers[-1] \n",
    "#output_layer.bias.assign([0])\n",
    "\n"
   ]
  },
  {
   "cell_type": "code",
   "execution_count": 0,
   "metadata": {
    "colab": {
     "base_uri": "https://localhost:8080/",
     "height": 122
    },
    "colab_type": "code",
    "id": "Qgqk6wO3_N2p",
    "outputId": "17287d60-e5b5-49f2-c4b2-35670e0ee065"
   },
   "outputs": [
    {
     "name": "stdout",
     "output_type": "stream",
     "text": [
      "Train on 14260 samples, validate on 2440 samples\n",
      "Epoch 1/2\n",
      "11/11 [==============================] - 3s 252ms/step - loss: 0.5358 - accuracy: 0.7278 - auc: 0.8051 - val_loss: 0.0069 - val_accuracy: 61.5574 - val_auc: 59.7592\n",
      "Epoch 2/2\n",
      "11/11 [==============================] - 1s 120ms/step - loss: 0.5368 - accuracy: 0.7270 - auc: 0.8040 - val_loss: 0.0069 - val_accuracy: 60.9016 - val_auc: 59.5331\n"
     ]
    }
   ],
   "source": [
    "metrics =[\"accuracy\", keras.metrics.AUC(name='auc')] \n",
    "resampled_model.compile(loss='binary_crossentropy', optimizer='Adam', metrics=metrics)\n",
    "\n",
    "resampled_history = resampled_model.fit(\n",
    "    resampled_features,\n",
    "    resampled_labels,\n",
    "    epochs=100,\n",
    "    steps_per_epoch= int(resampled_steps_per_epoch),\n",
    "    #callbacks = [early_stopping],\n",
    "    validation_steps = 100,\n",
    "    validation_data=(val_features, val_labels))\n",
    "    # The class weights go here\n",
    "    "
   ]
  },
  {
   "cell_type": "code",
   "execution_count": 0,
   "metadata": {
    "colab": {
     "base_uri": "https://localhost:8080/",
     "height": 224
    },
    "colab_type": "code",
    "id": "lTsmOF4i_buG",
    "outputId": "20084428-5a33-49c5-a55f-90eaabbd2764"
   },
   "outputs": [
    {
     "name": "stdout",
     "output_type": "stream",
     "text": [
      "Train on 14260 samples, validate on 2440 samples\n",
      "Epoch 1/5\n",
      "11/11 [==============================] - 3s 251ms/step - loss: 0.5311 - accuracy: 0.7310 - auc: 0.8091 - val_loss: 0.0069 - val_accuracy: 62.0902 - val_auc: 59.6759\n",
      "Epoch 2/5\n",
      "11/11 [==============================] - 1s 125ms/step - loss: 0.5357 - accuracy: 0.7282 - auc: 0.8050 - val_loss: 0.0069 - val_accuracy: 60.6148 - val_auc: 59.4492\n",
      "Epoch 3/5\n",
      "11/11 [==============================] - 1s 119ms/step - loss: 0.5362 - accuracy: 0.7270 - auc: 0.8047 - val_loss: 0.0069 - val_accuracy: 61.7623 - val_auc: 59.6754\n",
      "Epoch 4/5\n",
      "11/11 [==============================] - 1s 122ms/step - loss: 0.5363 - accuracy: 0.7262 - auc: 0.8046 - val_loss: 0.0069 - val_accuracy: 61.5984 - val_auc: 59.6693\n",
      "Epoch 5/5\n",
      "11/11 [==============================] - 1s 120ms/step - loss: 0.5376 - accuracy: 0.7256 - auc: 0.8032 - val_loss: 0.0069 - val_accuracy: 61.4754 - val_auc: 59.4443\n"
     ]
    }
   ],
   "source": [
    "metrics =[\"accuracy\", keras.metrics.AUC(name='auc')] \n",
    "\n",
    "resampled_model.compile(loss='binary_crossentropy', optimizer='Adam', metrics=metrics)\n",
    "resampled_history = resampled_model.fit(\n",
    "    resampled_features,\n",
    "    resampled_labels,\n",
    "    epochs=5,\n",
    "    steps_per_epoch= int(resampled_steps_per_epoch),\n",
    "    callbacks = [early_stopping],\n",
    "    validation_steps = 100,\n",
    "    validation_data=(val_features, val_labels))\n",
    "    # The class weights go here\n",
    "    "
   ]
  },
  {
   "cell_type": "markdown",
   "metadata": {
    "colab_type": "text",
    "id": "X7ob_nxuyuU7"
   },
   "source": [
    "### Performance with oversampling"
   ]
  },
  {
   "cell_type": "code",
   "execution_count": 0,
   "metadata": {
    "colab": {},
    "colab_type": "code",
    "id": "7XAK_V18bQ_B"
   },
   "outputs": [],
   "source": [
    "train_predictions_resampled = resampled_model.predict(train_features, batch_size=300)\n",
    "test_predictions_resampled = resampled_model.predict(test_features, batch_size=300)"
   ]
  },
  {
   "cell_type": "code",
   "execution_count": 0,
   "metadata": {
    "colab": {
     "base_uri": "https://localhost:8080/",
     "height": 503
    },
    "colab_type": "code",
    "id": "DY4Rzab-DZTZ",
    "outputId": "08347c81-4b9e-419c-eb4a-6f084445a0c9"
   },
   "outputs": [
    {
     "name": "stdout",
     "output_type": "stream",
     "text": [
      "loss :  0.44472549956027374\n",
      "accuracy :  0.8094066977500916\n",
      "auc :  0.8984197974205017\n",
      "\n",
      "True Negatives:  5704\n",
      "False Positives:  1426\n",
      "False Negatives:  434\n",
      "True Positives:  2195\n",
      "Total :  2629\n"
     ]
    },
    {
     "data": {
      "image/png": "[encoded data removed]",
      "text/plain": [
       "<Figure size 360x360 with 2 Axes>"
      ]
     },
     "metadata": {
      "needs_background": "light",
      "tags": []
     },
     "output_type": "display_data"
    }
   ],
   "source": [
    "train_predictions_resampled = resampled_model.predict(train_features, batch_size=300)\n",
    "train_results = resampled_model.evaluate(train_features, train_labels,\n",
    "                                  batch_size=300, verbose=0)\n",
    "for name, value in zip(resampled_model.metrics_names, train_results):\n",
    "  print(name, ': ', value)\n",
    "print()\n",
    "\n",
    "plot_cm(train_labels, train_predictions_resampled)\n"
   ]
  },
  {
   "cell_type": "code",
   "execution_count": 0,
   "metadata": {
    "colab": {
     "base_uri": "https://localhost:8080/",
     "height": 503
    },
    "colab_type": "code",
    "id": "aBBbgVUfbREh",
    "outputId": "2fdc3c63-7c4f-45f8-d647-96391b6bf2c6"
   },
   "outputs": [
    {
     "name": "stdout",
     "output_type": "stream",
     "text": [
      "loss :  0.6839074160231918\n",
      "accuracy :  0.6131147742271423\n",
      "auc :  0.6005640625953674\n",
      "\n",
      "True Negatives:  1479\n",
      "False Positives:  760\n",
      "False Negatives:  420\n",
      "True Positives:  391\n",
      "Total :  811\n"
     ]
    },
    {
     "data": {
      "image/png": "[encoded data removed]",
      "text/plain": [
       "<Figure size 360x360 with 2 Axes>"
      ]
     },
     "metadata": {
      "needs_background": "light",
      "tags": []
     },
     "output_type": "display_data"
    }
   ],
   "source": [
    "test_predictions_resampled = resampled_model.predict(test_features, batch_size=300)\n",
    "resampled_results = resampled_model.evaluate(test_features, test_labels,\n",
    "                                             batch_size=300, verbose=0)\n",
    "for name, value in zip(resampled_model.metrics_names, resampled_results):\n",
    "  print(name, ': ', value)\n",
    "print()\n",
    "\n",
    "plot_cm(test_labels, test_predictions_resampled)"
   ]
  },
  {
   "cell_type": "code",
   "execution_count": 383,
   "metadata": {
    "colab": {
     "base_uri": "https://localhost:8080/",
     "height": 503
    },
    "colab_type": "code",
    "id": "inGr5AWRllZ0",
    "outputId": "8be48b2c-ea8e-400e-de13-4fa1a2654523"
   },
   "outputs": [
    {
     "name": "stdout",
     "output_type": "stream",
     "text": [
      "loss :  0.6844620186774457\n",
      "accuracy :  0.6127868890762329\n",
      "auc :  0.5999758243560791\n",
      "\n",
      "True Negatives:  1495\n",
      "False Positives:  744\n",
      "False Negatives:  437\n",
      "True Positives:  374\n",
      "Total :  811\n"
     ]
    },
    {
     "data": {
      "image/png": "[encoded data removed]",
      "text/plain": [
       "<Figure size 360x360 with 2 Axes>"
      ]
     },
     "metadata": {
      "needs_background": "light",
      "tags": []
     },
     "output_type": "display_data"
    }
   ],
   "source": [
    "test_predictions_resampled = resampled_model.predict(test_features, batch_size=300)\n",
    "resampled_results = resampled_model.evaluate(test_features, test_labels,\n",
    "                                             batch_size=300, verbose=0)\n",
    "for name, value in zip(resampled_model.metrics_names, resampled_results):\n",
    "  print(name, ': ', value)\n",
    "print()\n",
    "\n",
    "plot_cm(test_labels, test_predictions_resampled)"
   ]
  },
  {
   "cell_type": "code",
   "execution_count": null,
   "metadata": {
    "colab": {
     "base_uri": "https://localhost:8080/",
     "height": 361
    },
    "colab_type": "code",
    "id": "emVNpXkB0Ji8",
    "outputId": "3cd8ff41-49f8-491c-e9ff-c6974f738c65"
   },
   "outputs": [],
   "source": [
    "resampled_model = keras.models.load_model('resampled_model.h5', custom_objects=dependencies)"
   ]
  },
  {
   "cell_type": "code",
   "execution_count": 0,
   "metadata": {
    "colab": {},
    "colab_type": "code",
    "id": "Kv2Wclu2p4Jq"
   },
   "outputs": [],
   "source": [
    "metrics =[\"accuracy\", keras.metrics.AUC(name='auc')] \n",
    "resampled_model.save('resampled_model.h5')"
   ]
  },
  {
   "cell_type": "code",
   "execution_count": 0,
   "metadata": {
    "colab": {},
    "colab_type": "code",
    "id": "OcWmXgINqn4m"
   },
   "outputs": [],
   "source": [
    "model_copy= keras.models.clone_model(resampled_model)\n",
    "model_copy.build((input_shape[0], 1)) # replace 10 with number of variables in input layer\n",
    "model_copy.compile(optimizer='rmsprop', loss='binary_crossentropy', metrics=metrics)\n",
    "model_copy.set_weights(resampled_model.get_weights())"
   ]
  },
  {
   "cell_type": "code",
   "execution_count": 0,
   "metadata": {
    "colab": {},
    "colab_type": "code",
    "id": "ko3J-a8tqoNS"
   },
   "outputs": [],
   "source": [
    "#model_copy.compile(optimizer='Adam', loss='binary_crossentropy', metrics=metrics)\n",
    "\n",
    "copy_history = model_copy.fit(\n",
    "    resampled_features,\n",
    "    resampled_labels,\n",
    "    epochs=10,\n",
    "    steps_per_epoch= int(resampled_steps_per_epoch),\n",
    "    #callbacks = [early_stopping],\n",
    "    validation_steps = 100,\n",
    "    validation_data=(val_features, val_labels))\n",
    "    # The class weights go here\n",
    "    "
   ]
  },
  {
   "cell_type": "markdown",
   "metadata": {
    "colab_type": "text",
    "id": "M4I38DSiD6ZG"
   },
   "source": [
    "We can see clearly that by oversampling we are overfitting on the training set. To fix it, adding a **ridge regularization** could be a goog idea."
   ]
  },
  {
   "cell_type": "markdown",
   "metadata": {
    "colab_type": "text",
    "id": "aXdaJq0cFD58"
   },
   "source": [
    "## Regularized model"
   ]
  },
  {
   "cell_type": "code",
   "execution_count": 0,
   "metadata": {
    "colab": {},
    "colab_type": "code",
    "id": "dU6_WuucF8_v"
   },
   "outputs": [],
   "source": [
    "from keras import regularizers\n",
    "from keras import Model"
   ]
  },
  {
   "cell_type": "code",
   "execution_count": 0,
   "metadata": {
    "colab": {
     "base_uri": "https://localhost:8080/",
     "height": 306
    },
    "colab_type": "code",
    "id": "x2qURniAFZnu",
    "outputId": "4bf1f9d9-205c-42dc-b9fd-3be119f97aef"
   },
   "outputs": [
    {
     "data": {
      "text/plain": [
       "[<keras.layers.normalization.BatchNormalization at 0x7f75cfc63f60>,\n",
       " <keras.layers.convolutional.Conv1D at 0x7f75cfc7c198>,\n",
       " <keras.layers.normalization.BatchNormalization at 0x7f75cfc07198>,\n",
       " <keras.layers.core.Dropout at 0x7f75cfc7c0f0>,\n",
       " <keras.layers.convolutional.Conv1D at 0x7f75cfc0ee10>,\n",
       " <keras.layers.pooling.MaxPooling1D at 0x7f75cfbbe630>,\n",
       " <keras.layers.normalization.BatchNormalization at 0x7f75cfbc6fd0>,\n",
       " <keras.layers.core.Dropout at 0x7f75cfbbe6a0>,\n",
       " <keras.layers.convolutional.Conv1D at 0x7f75cfbeaa58>,\n",
       " <keras.layers.pooling.MaxPooling1D at 0x7f75cfb898d0>,\n",
       " <keras.layers.normalization.BatchNormalization at 0x7f75cfb91c50>,\n",
       " <keras.layers.core.Dropout at 0x7f75cfb89940>,\n",
       " <keras.layers.convolutional.Conv1D at 0x7f75cfbb4cf8>,\n",
       " <keras.layers.pooling.MaxPooling1D at 0x7f75cfb54b70>,\n",
       " <keras.layers.core.Flatten at 0x7f75cfbfef98>,\n",
       " <keras.layers.normalization.BatchNormalization at 0x7f75cfb5bef0>,\n",
       " <keras.layers.core.Dropout at 0x7f75cfaffef0>]"
      ]
     },
     "execution_count": 171,
     "metadata": {
      "tags": []
     },
     "output_type": "execute_result"
    }
   ],
   "source": [
    "resampled_model.layers[:-1]"
   ]
  },
  {
   "cell_type": "code",
   "execution_count": 0,
   "metadata": {
    "colab": {
     "base_uri": "https://localhost:8080/",
     "height": 765
    },
    "colab_type": "code",
    "id": "MmvpA2psMaAF",
    "outputId": "8edf4373-b689-405d-e33c-2aaa3b063d81"
   },
   "outputs": [
    {
     "name": "stdout",
     "output_type": "stream",
     "text": [
      "Model: \"sequential_39\"\n",
      "_________________________________________________________________\n",
      "Layer (type)                 Output Shape              Param #   \n",
      "=================================================================\n",
      "batch_normalization_139 (Bat (None, 22, 1)             88        \n",
      "_________________________________________________________________\n",
      "conv1d_113 (Conv1D)          (None, 19, 3)             15        \n",
      "_________________________________________________________________\n",
      "batch_normalization_140 (Bat (None, 19, 3)             76        \n",
      "_________________________________________________________________\n",
      "dropout_110 (Dropout)        (None, 19, 3)             0         \n",
      "_________________________________________________________________\n",
      "conv1d_114 (Conv1D)          (None, 17, 40)            400       \n",
      "_________________________________________________________________\n",
      "max_pooling1d_84 (MaxPooling (None, 8, 40)             0         \n",
      "_________________________________________________________________\n",
      "batch_normalization_141 (Bat (None, 8, 40)             32        \n",
      "_________________________________________________________________\n",
      "dropout_111 (Dropout)        (None, 8, 40)             0         \n",
      "_________________________________________________________________\n",
      "conv1d_115 (Conv1D)          (None, 6, 40)             4840      \n",
      "_________________________________________________________________\n",
      "max_pooling1d_85 (MaxPooling (None, 3, 40)             0         \n",
      "_________________________________________________________________\n",
      "batch_normalization_142 (Bat (None, 3, 40)             12        \n",
      "_________________________________________________________________\n",
      "dropout_112 (Dropout)        (None, 3, 40)             0         \n",
      "_________________________________________________________________\n",
      "conv1d_116 (Conv1D)          (None, 2, 40)             3240      \n",
      "_________________________________________________________________\n",
      "max_pooling1d_86 (MaxPooling (None, 1, 40)             0         \n",
      "_________________________________________________________________\n",
      "flatten_27 (Flatten)         (None, 40)                0         \n",
      "_________________________________________________________________\n",
      "batch_normalization_143 (Bat (None, 40)                160       \n",
      "_________________________________________________________________\n",
      "dropout_113 (Dropout)        (None, 40)                0         \n",
      "_________________________________________________________________\n",
      "dense_38 (Dense)             (None, 1)                 41        \n",
      "=================================================================\n",
      "Total params: 8,904\n",
      "Trainable params: 8,720\n",
      "Non-trainable params: 184\n",
      "_________________________________________________________________\n"
     ]
    }
   ],
   "source": [
    "reg_model = build_CNN(input_shape = input_shape, filters = [40,40, 40], kernels = [3,3, 2], output_bias= initial_bias, dropout= 0.1)\n",
    "\n",
    "reg_model_1 = Sequential( reg_model.layers[:-1]+\n",
    "           [Dense(units=1, activation='sigmoid',kernel_regularizer=regularizers.l2(0),\n",
    "                                activity_regularizer=regularizers.l1(0.001)) ]\n",
    "                                    )\n",
    "reg_model_1.summary()"
   ]
  },
  {
   "cell_type": "code",
   "execution_count": 0,
   "metadata": {
    "colab": {},
    "colab_type": "code",
    "id": "6k2OfCcbFS_w"
   },
   "outputs": [],
   "source": [
    "metrics =[\"accuracy\", keras.metrics.AUC(name='auc')] \n",
    "reg_model_1.compile(loss='binary_crossentropy', optimizer='Adam', metrics=metrics)\n",
    "\n",
    "reg_history = reg_model_1.fit(\n",
    "    resampled_features,\n",
    "    resampled_labels,\n",
    "    epochs=100,\n",
    "    steps_per_epoch= int(resampled_steps_per_epoch),\n",
    "    #callbacks = [early_stopping],\n",
    "    validation_steps = 100,\n",
    "    validation_data=(val_features, val_labels))\n",
    "    # The class weights go here\n",
    "    "
   ]
  },
  {
   "cell_type": "code",
   "execution_count": 0,
   "metadata": {
    "colab": {},
    "colab_type": "code",
    "id": "xCYee2QsOsWF"
   },
   "outputs": [],
   "source": [
    "metrics =[\"accuracy\", keras.metrics.AUC(name='auc')] \n",
    "reg_model.compile(loss='binary_crossentropy', optimizer='Adam', metrics=metrics)\n",
    "\n",
    "reg_history = reg_model.fit(\n",
    "    resampled_features,\n",
    "    resampled_labels,\n",
    "    epochs=100,\n",
    "    steps_per_epoch= int(resampled_steps_per_epoch),\n",
    "    callbacks = [early_stopping],\n",
    "    validation_steps = 1,\n",
    "    validation_data=(val_features, val_labels))\n",
    "    # The class weights go here\n",
    "    "
   ]
  },
  {
   "cell_type": "code",
   "execution_count": 0,
   "metadata": {
    "colab": {
     "base_uri": "https://localhost:8080/",
     "height": 503
    },
    "colab_type": "code",
    "id": "-CWXSSw9PqZC",
    "outputId": "efad8c50-5df3-462a-8d69-f092a2a13afb"
   },
   "outputs": [
    {
     "name": "stdout",
     "output_type": "stream",
     "text": [
      "loss :  0.472423944424161\n",
      "accuracy :  0.7832769751548767\n",
      "auc :  0.8863608241081238\n",
      "\n",
      "True Negatives:  5395\n",
      "False Positives:  1735\n",
      "False Negatives:  380\n",
      "True Positives:  2249\n",
      "Total :  2629\n"
     ]
    },
    {
     "data": {
      "image/png": "[encoded data removed]",
      "text/plain": [
       "<Figure size 360x360 with 2 Axes>"
      ]
     },
     "metadata": {
      "needs_background": "light",
      "tags": []
     },
     "output_type": "display_data"
    }
   ],
   "source": [
    "train_predictions_reg = reg_model.predict(train_features, batch_size=300)\n",
    "train_results_reg = reg_model.evaluate(train_features, train_labels,\n",
    "                                  batch_size=300, verbose=0)\n",
    "for name, value in zip(reg_model.metrics_names, train_results_reg):\n",
    "  print(name, ': ', value)\n",
    "print()\n",
    "\n",
    "plot_cm(train_labels, train_predictions_reg)\n"
   ]
  },
  {
   "cell_type": "code",
   "execution_count": 0,
   "metadata": {
    "colab": {
     "base_uri": "https://localhost:8080/",
     "height": 503
    },
    "colab_type": "code",
    "id": "gsJNFXS2F15H",
    "outputId": "e353257c-53f9-4062-cb1f-7424ed546e53"
   },
   "outputs": [
    {
     "name": "stdout",
     "output_type": "stream",
     "text": [
      "loss :  0.6787590276999552\n",
      "accuracy :  0.5934426188468933\n",
      "auc :  0.5881864428520203\n",
      "\n",
      "True Negatives:  1418\n",
      "False Positives:  821\n",
      "False Negatives:  419\n",
      "True Positives:  392\n",
      "Total :  811\n"
     ]
    },
    {
     "data": {
      "image/png": "[encoded data removed]",
      "text/plain": [
       "<Figure size 360x360 with 2 Axes>"
      ]
     },
     "metadata": {
      "needs_background": "light",
      "tags": []
     },
     "output_type": "display_data"
    }
   ],
   "source": [
    "test_predictions_reg = reg_model.predict(test_features, batch_size=300)\n",
    "reg_results = reg_model.evaluate(test_features, test_labels,\n",
    "                                             batch_size=300, verbose=0)\n",
    "for name, value in zip(reg_model.metrics_names, reg_results):\n",
    "  print(name, ': ', value)\n",
    "print()\n",
    "\n",
    "plot_cm(test_labels, test_predictions_reg)"
   ]
  },
  {
   "cell_type": "code",
   "execution_count": 0,
   "metadata": {
    "colab": {
     "base_uri": "https://localhost:8080/",
     "height": 486
    },
    "colab_type": "code",
    "id": "ypPGtoqZvfzm",
    "outputId": "adf6ea58-39d7-499b-c5d0-596d105fe6ca"
   },
   "outputs": [
    {
     "name": "stdout",
     "output_type": "stream",
     "text": [
      "loss :  0.6633986136952384\n",
      "accuracy :  0.6072131395339966\n",
      "\n",
      "True Negatives:  1674\n",
      "False Positives:  565\n",
      "False Negatives:  633\n",
      "True Positives:  178\n",
      "Total :  811\n"
     ]
    },
    {
     "data": {
      "image/png": "[encoded data removed]",
      "text/plain": [
       "<Figure size 360x360 with 2 Axes>"
      ]
     },
     "metadata": {
      "needs_background": "light",
      "tags": []
     },
     "output_type": "display_data"
    }
   ],
   "source": [
    "test_predictions_reg = reg_model.predict(test_features, batch_size=300)\n",
    "reg_results = reg_model.evaluate(test_features, test_labels,\n",
    "                                             batch_size=300, verbose=0)\n",
    "for name, value in zip(reg_model.metrics_names, reg_results):\n",
    "  print(name, ': ', value)\n",
    "print()\n",
    "\n",
    "plot_cm(test_labels, test_predictions_reg)"
   ]
  },
  {
   "cell_type": "markdown",
   "metadata": {
    "colab_type": "text",
    "id": "QK_wOHMxzXGd"
   },
   "source": [
    "### Add regularization to conv layers"
   ]
  },
  {
   "cell_type": "code",
   "execution_count": 0,
   "metadata": {
    "colab": {
     "base_uri": "https://localhost:8080/",
     "height": 765
    },
    "colab_type": "code",
    "id": "Rz6Oo5ldF5By",
    "outputId": "fe51a918-49e1-425d-abbf-48b43d427046"
   },
   "outputs": [
    {
     "name": "stdout",
     "output_type": "stream",
     "text": [
      "Model: \"sequential_40\"\n",
      "_________________________________________________________________\n",
      "Layer (type)                 Output Shape              Param #   \n",
      "=================================================================\n",
      "batch_normalization_144 (Bat (None, 22, 1)             88        \n",
      "_________________________________________________________________\n",
      "conv1d_117 (Conv1D)          (None, 19, 3)             15        \n",
      "_________________________________________________________________\n",
      "batch_normalization_145 (Bat (None, 19, 3)             76        \n",
      "_________________________________________________________________\n",
      "dropout_114 (Dropout)        (None, 19, 3)             0         \n",
      "_________________________________________________________________\n",
      "conv1d_118 (Conv1D)          (None, 17, 40)            400       \n",
      "_________________________________________________________________\n",
      "max_pooling1d_87 (MaxPooling (None, 8, 40)             0         \n",
      "_________________________________________________________________\n",
      "batch_normalization_146 (Bat (None, 8, 40)             32        \n",
      "_________________________________________________________________\n",
      "dropout_115 (Dropout)        (None, 8, 40)             0         \n",
      "_________________________________________________________________\n",
      "conv1d_119 (Conv1D)          (None, 6, 40)             4840      \n",
      "_________________________________________________________________\n",
      "max_pooling1d_88 (MaxPooling (None, 3, 40)             0         \n",
      "_________________________________________________________________\n",
      "batch_normalization_147 (Bat (None, 3, 40)             12        \n",
      "_________________________________________________________________\n",
      "dropout_116 (Dropout)        (None, 3, 40)             0         \n",
      "_________________________________________________________________\n",
      "conv1d_120 (Conv1D)          (None, 2, 15)             1215      \n",
      "_________________________________________________________________\n",
      "max_pooling1d_89 (MaxPooling (None, 1, 15)             0         \n",
      "_________________________________________________________________\n",
      "flatten_28 (Flatten)         (None, 15)                0         \n",
      "_________________________________________________________________\n",
      "batch_normalization_148 (Bat (None, 15)                60        \n",
      "_________________________________________________________________\n",
      "dropout_117 (Dropout)        (None, 15)                0         \n",
      "_________________________________________________________________\n",
      "dense_39 (Dense)             (None, 1)                 16        \n",
      "=================================================================\n",
      "Total params: 6,754\n",
      "Trainable params: 6,620\n",
      "Non-trainable params: 134\n",
      "_________________________________________________________________\n"
     ]
    }
   ],
   "source": [
    "reg_model = build_CNN(input_shape = input_shape, filters = [40,40, 15], kernels = [3,3, 2], output_bias= initial_bias, dropout= 0.2, reg = 0.1)\n",
    "reg_model.summary()"
   ]
  },
  {
   "cell_type": "code",
   "execution_count": 0,
   "metadata": {
    "colab": {},
    "colab_type": "code",
    "id": "k96fvm1lNHGy"
   },
   "outputs": [],
   "source": [
    "metrics =[\"accuracy\", keras.metrics.AUC(name='auc')] \n",
    "reg_model.compile(loss='binary_crossentropy', optimizer='rmsprop', metrics=metrics)\n",
    "\n",
    "reg_history = reg_model.fit(\n",
    "    resampled_features,\n",
    "    resampled_labels,\n",
    "    epochs=200,\n",
    "    steps_per_epoch= int(resampled_steps_per_epoch),\n",
    "    #callbacks = [early_stopping],\n",
    "    validation_steps = 100,\n",
    "    validation_data=(val_features, val_labels))\n",
    "    # The class weights go here\n",
    "    "
   ]
  },
  {
   "cell_type": "code",
   "execution_count": 0,
   "metadata": {
    "colab": {},
    "colab_type": "code",
    "id": "bZMdGtaXUJXx"
   },
   "outputs": [],
   "source": [
    "metrics =[\"accuracy\", keras.metrics.AUC(name='auc')] \n",
    "reg_model.compile(loss='binary_crossentropy', optimizer='rmsprop', metrics=metrics)\n",
    "\n",
    "reg_history = reg_model.fit(\n",
    "    resampled_features,\n",
    "    resampled_labels,\n",
    "    epochs=100,\n",
    "    steps_per_epoch= int(resampled_steps_per_epoch),\n",
    "    #callbacks = [early_stopping],\n",
    "    validation_steps = 1,\n",
    "    validation_data=(val_features, val_labels))\n",
    "    # The class weights go here\n",
    "    \n",
    "    "
   ]
  },
  {
   "cell_type": "code",
   "execution_count": 0,
   "metadata": {
    "colab": {
     "base_uri": "https://localhost:8080/",
     "height": 503
    },
    "colab_type": "code",
    "id": "q75ZVnxwQ5kf",
    "outputId": "3e7a3307-966e-432e-fdc4-19c8a66d1d75"
   },
   "outputs": [
    {
     "name": "stdout",
     "output_type": "stream",
     "text": [
      "loss :  0.4300402162205502\n",
      "accuracy :  0.8448611497879028\n",
      "auc :  0.9143071174621582\n",
      "\n",
      "True Negatives:  6093\n",
      "False Positives:  1037\n",
      "False Negatives:  477\n",
      "True Positives:  2152\n",
      "Total :  2629\n"
     ]
    },
    {
     "data": {
      "image/png": "[encoded data removed]",
      "text/plain": [
       "<Figure size 360x360 with 2 Axes>"
      ]
     },
     "metadata": {
      "needs_background": "light",
      "tags": []
     },
     "output_type": "display_data"
    }
   ],
   "source": [
    "train_predictions_reg = reg_model.predict(train_features, batch_size=300)\n",
    "train_results_reg = reg_model.evaluate(train_features, train_labels,\n",
    "                                  batch_size=300, verbose=0)\n",
    "for name, value in zip(reg_model.metrics_names, train_results_reg):\n",
    "  print(name, ': ', value)\n",
    "print()\n",
    "\n",
    "plot_cm(train_labels, train_predictions_reg)\n"
   ]
  },
  {
   "cell_type": "code",
   "execution_count": 0,
   "metadata": {
    "colab": {
     "base_uri": "https://localhost:8080/",
     "height": 503
    },
    "colab_type": "code",
    "id": "EsZPN5_6Q-uv",
    "outputId": "9c8fbfca-4c44-4147-b1c2-09eb274f2c34"
   },
   "outputs": [
    {
     "name": "stdout",
     "output_type": "stream",
     "text": [
      "loss :  1.3337650377242292\n",
      "accuracy :  0.7213114500045776\n",
      "auc :  0.5293805003166199\n",
      "\n",
      "True Negatives:  2156\n",
      "False Positives:  83\n",
      "False Negatives:  767\n",
      "True Positives:  44\n",
      "Total :  811\n"
     ]
    },
    {
     "data": {
      "image/png": "[encoded data removed]",
      "text/plain": [
       "<Figure size 360x360 with 2 Axes>"
      ]
     },
     "metadata": {
      "needs_background": "light",
      "tags": []
     },
     "output_type": "display_data"
    }
   ],
   "source": [
    "test_predictions_reg = reg_model.predict(test_features, batch_size=1000)\n",
    "reg_results = reg_model.evaluate(test_features, test_labels,\n",
    "                                             batch_size=1000, verbose=0)\n",
    "for name, value in zip(reg_model.metrics_names, reg_results):\n",
    "  print(name, ': ', value)\n",
    "print()\n",
    "\n",
    "plot_cm(test_labels, test_predictions_reg)"
   ]
  },
  {
   "cell_type": "markdown",
   "metadata": {
    "colab_type": "text",
    "id": "4CmnmMFtNHlS"
   },
   "source": [
    "### Train xgb with extracted features"
   ]
  },
  {
   "cell_type": "code",
   "execution_count": 0,
   "metadata": {
    "colab": {
     "base_uri": "https://localhost:8080/",
     "height": 765
    },
    "colab_type": "code",
    "id": "dIzury_P2nH1",
    "outputId": "599a3a75-a26a-493b-ca0f-40b09fae8ba4"
   },
   "outputs": [
    {
     "name": "stdout",
     "output_type": "stream",
     "text": [
      "Model: \"sequential_30\"\n",
      "_________________________________________________________________\n",
      "Layer (type)                 Output Shape              Param #   \n",
      "=================================================================\n",
      "batch_normalization_115 (Bat (None, 22, 1)             88        \n",
      "_________________________________________________________________\n",
      "conv1d_93 (Conv1D)           (None, 19, 3)             15        \n",
      "_________________________________________________________________\n",
      "batch_normalization_116 (Bat (None, 19, 3)             76        \n",
      "_________________________________________________________________\n",
      "dropout_91 (Dropout)         (None, 19, 3)             0         \n",
      "_________________________________________________________________\n",
      "conv1d_94 (Conv1D)           (None, 17, 40)            400       \n",
      "_________________________________________________________________\n",
      "max_pooling1d_69 (MaxPooling (None, 8, 40)             0         \n",
      "_________________________________________________________________\n",
      "batch_normalization_117 (Bat (None, 8, 40)             32        \n",
      "_________________________________________________________________\n",
      "dropout_92 (Dropout)         (None, 8, 40)             0         \n",
      "_________________________________________________________________\n",
      "conv1d_95 (Conv1D)           (None, 6, 40)             4840      \n",
      "_________________________________________________________________\n",
      "max_pooling1d_70 (MaxPooling (None, 3, 40)             0         \n",
      "_________________________________________________________________\n",
      "batch_normalization_118 (Bat (None, 3, 40)             12        \n",
      "_________________________________________________________________\n",
      "dropout_93 (Dropout)         (None, 3, 40)             0         \n",
      "_________________________________________________________________\n",
      "conv1d_96 (Conv1D)           (None, 2, 15)             1215      \n",
      "_________________________________________________________________\n",
      "max_pooling1d_71 (MaxPooling (None, 1, 15)             0         \n",
      "_________________________________________________________________\n",
      "flatten_23 (Flatten)         (None, 15)                0         \n",
      "_________________________________________________________________\n",
      "batch_normalization_119 (Bat (None, 15)                60        \n",
      "_________________________________________________________________\n",
      "dropout_94 (Dropout)         (None, 15)                0         \n",
      "_________________________________________________________________\n",
      "dense_30 (Dense)             (None, 1)                 16        \n",
      "=================================================================\n",
      "Total params: 6,754\n",
      "Trainable params: 6,620\n",
      "Non-trainable params: 134\n",
      "_________________________________________________________________\n"
     ]
    }
   ],
   "source": [
    "resampled_model.summary()"
   ]
  },
  {
   "cell_type": "code",
   "execution_count": 0,
   "metadata": {
    "colab": {},
    "colab_type": "code",
    "id": "T-uqEhhV24B0"
   },
   "outputs": [],
   "source": [
    "feature_layer_model = keras.Model(\n",
    "                     inputs=resampled_model.input,\n",
    "                     outputs=resampled_model.get_layer(\"flatten_23\").output)"
   ]
  },
  {
   "cell_type": "code",
   "execution_count": 0,
   "metadata": {
    "colab": {
     "base_uri": "https://localhost:8080/",
     "height": 697
    },
    "colab_type": "code",
    "id": "-YwNs3683CkM",
    "outputId": "d4ab0502-22ce-4834-d727-66f815b2429f"
   },
   "outputs": [
    {
     "name": "stdout",
     "output_type": "stream",
     "text": [
      "Model: \"model_5\"\n",
      "_________________________________________________________________\n",
      "Layer (type)                 Output Shape              Param #   \n",
      "=================================================================\n",
      "batch_normalization_115_inpu (None, 22, 1)             0         \n",
      "_________________________________________________________________\n",
      "batch_normalization_115 (Bat (None, 22, 1)             88        \n",
      "_________________________________________________________________\n",
      "conv1d_93 (Conv1D)           (None, 19, 3)             15        \n",
      "_________________________________________________________________\n",
      "batch_normalization_116 (Bat (None, 19, 3)             76        \n",
      "_________________________________________________________________\n",
      "dropout_91 (Dropout)         (None, 19, 3)             0         \n",
      "_________________________________________________________________\n",
      "conv1d_94 (Conv1D)           (None, 17, 40)            400       \n",
      "_________________________________________________________________\n",
      "max_pooling1d_69 (MaxPooling (None, 8, 40)             0         \n",
      "_________________________________________________________________\n",
      "batch_normalization_117 (Bat (None, 8, 40)             32        \n",
      "_________________________________________________________________\n",
      "dropout_92 (Dropout)         (None, 8, 40)             0         \n",
      "_________________________________________________________________\n",
      "conv1d_95 (Conv1D)           (None, 6, 40)             4840      \n",
      "_________________________________________________________________\n",
      "max_pooling1d_70 (MaxPooling (None, 3, 40)             0         \n",
      "_________________________________________________________________\n",
      "batch_normalization_118 (Bat (None, 3, 40)             12        \n",
      "_________________________________________________________________\n",
      "dropout_93 (Dropout)         (None, 3, 40)             0         \n",
      "_________________________________________________________________\n",
      "conv1d_96 (Conv1D)           (None, 2, 15)             1215      \n",
      "_________________________________________________________________\n",
      "max_pooling1d_71 (MaxPooling (None, 1, 15)             0         \n",
      "_________________________________________________________________\n",
      "flatten_23 (Flatten)         (None, 15)                0         \n",
      "=================================================================\n",
      "Total params: 6,678\n",
      "Trainable params: 6,574\n",
      "Non-trainable params: 104\n",
      "_________________________________________________________________\n"
     ]
    }
   ],
   "source": [
    "feature_layer_model.summary()"
   ]
  },
  {
   "cell_type": "code",
   "execution_count": 0,
   "metadata": {
    "colab": {},
    "colab_type": "code",
    "id": "IJz0eMZlNRY9"
   },
   "outputs": [],
   "source": [
    "def get_feature_layer(model, data, layer):\n",
    "    \n",
    "    \n",
    "    \n",
    "    total_layers = len(model.layers)\n",
    "    \n",
    "    fl_index = total_layers-1\n",
    "    \n",
    "    feature_layer_model = keras.Model(\n",
    "                     inputs=model.input,\n",
    "                     outputs=model.get_layer(layer).output)\n",
    "    \n",
    "    feature_layer_output = feature_layer_model.predict(data)\n",
    "    \n",
    "    return feature_layer_output"
   ]
  },
  {
   "cell_type": "code",
   "execution_count": 0,
   "metadata": {
    "colab": {},
    "colab_type": "code",
    "id": "cVgziFbU45Jw"
   },
   "outputs": [],
   "source": [
    "#layer = \"flatten_23\"\n",
    "layer = \"batch_normalization_119\""
   ]
  },
  {
   "cell_type": "code",
   "execution_count": 424,
   "metadata": {
    "colab": {
     "base_uri": "https://localhost:8080/",
     "height": 34
    },
    "colab_type": "code",
    "id": "uqn7kJKBNSST",
    "outputId": "efc94683-c89a-4b0e-e685-acf8b3982b41"
   },
   "outputs": [
    {
     "data": {
      "text/plain": [
       "(14260, 15)"
      ]
     },
     "execution_count": 424,
     "metadata": {
      "tags": []
     },
     "output_type": "execute_result"
    }
   ],
   "source": [
    "X_train = get_feature_layer(resampled_model, resampled_features, layer= layer).reshape(resampled_labels.shape[0],-1)\n",
    "y_train = resampled_labels; X_train.shape"
   ]
  },
  {
   "cell_type": "code",
   "execution_count": 425,
   "metadata": {
    "colab": {
     "base_uri": "https://localhost:8080/",
     "height": 34
    },
    "colab_type": "code",
    "id": "ETaVTKdc3xI-",
    "outputId": "c534a585-15c5-4c96-c11c-b74f258b49e9"
   },
   "outputs": [
    {
     "data": {
      "text/plain": [
       "(2440, 15)"
      ]
     },
     "execution_count": 425,
     "metadata": {
      "tags": []
     },
     "output_type": "execute_result"
    }
   ],
   "source": [
    "y_val = val_labels \n",
    "X_val = get_feature_layer(resampled_model, val_features, layer= layer).reshape(y_val.shape[0], -1)\n",
    "X_val.shape"
   ]
  },
  {
   "cell_type": "code",
   "execution_count": 426,
   "metadata": {
    "colab": {
     "base_uri": "https://localhost:8080/",
     "height": 34
    },
    "colab_type": "code",
    "id": "lg3TPHYx4Q9d",
    "outputId": "7f08cea2-07f7-4c75-ea88-30e3d4bd4505"
   },
   "outputs": [
    {
     "data": {
      "text/plain": [
       "(3050, 15)"
      ]
     },
     "execution_count": 426,
     "metadata": {
      "tags": []
     },
     "output_type": "execute_result"
    }
   ],
   "source": [
    "y_test = test_labels\n",
    "X_test = get_feature_layer(resampled_model, test_features, layer= layer).reshape(y_test.shape[0], -1)\n",
    "X_test.shape"
   ]
  },
  {
   "cell_type": "code",
   "execution_count": 427,
   "metadata": {
    "colab": {
     "base_uri": "https://localhost:8080/",
     "height": 153
    },
    "colab_type": "code",
    "id": "zpW9oQ3bNSmL",
    "outputId": "3d51e28a-4b6a-4eeb-87d2-647f1254109a"
   },
   "outputs": [
    {
     "data": {
      "text/plain": [
       "XGBClassifier(base_score=0.5, booster='gbtree', colsample_bylevel=1,\n",
       "              colsample_bynode=1, colsample_bytree=1,\n",
       "              eval_metric=['error', 'auc'], gamma=0, learning_rate=0.1,\n",
       "              max_delta_step=0, max_depth=3, min_child_weight=1, missing=None,\n",
       "              n_estimators=100, n_jobs=1, nthread=None,\n",
       "              objective='binary:logistic', random_state=0, reg_alpha=0,\n",
       "              reg_lambda=1, scale_pos_weight=1, seed=None, silent=None,\n",
       "              subsample=1, verbosity=1)"
      ]
     },
     "execution_count": 427,
     "metadata": {
      "tags": []
     },
     "output_type": "execute_result"
    }
   ],
   "source": [
    "import time\n",
    "from xgboost import XGBClassifier\n",
    "# create a default XGBoost classifier\n",
    "model = XGBClassifier(base_score=0.5, booster='gbtree',\n",
    "                                           colsample_bylevel=1,\n",
    "                                           colsample_bynode=1,\n",
    "                                           colsample_bytree=1,\n",
    "                                           eval_metric=['error', 'auc'],\n",
    "                                           gamma=0, learning_rate=0.1,\n",
    "                                           max_delta_step=0, max_depth=3,\n",
    "                                           min_child_weight=1, missing=None,\n",
    "                                           n_estimators=100)\n",
    "# define the eval set and metric\n",
    "eval_set = [(X_train, y_train), (X_test, y_test)]\n",
    "eval_metric = [\"auc\",\"error\"]\n",
    "# fit the model\n",
    "model.fit(X_train, y_train, eval_metric=eval_metric, eval_set=[(X_train, y_train), (X_val, y_val)], verbose=False)"
   ]
  },
  {
   "cell_type": "code",
   "execution_count": 428,
   "metadata": {
    "colab": {
     "base_uri": "https://localhost:8080/",
     "height": 255
    },
    "colab_type": "code",
    "id": "8BeK0VwxTyzw",
    "outputId": "6ba499e1-7fa2-4dd4-b50b-b8bba14e1604"
   },
   "outputs": [
    {
     "name": "stdout",
     "output_type": "stream",
     "text": [
      "Train Accuracy:  0.8953015427769986\n",
      "Test Accuraccy:  0.6524590163934426\n",
      "Train auc:  0.8953015427769986\n",
      "Test auc:  0.5702216453201264\n",
      "Classification Report:\n",
      "              precision    recall  f1-score   support\n",
      "\n",
      "           0       0.77      0.75      0.76      2239\n",
      "           1       0.36      0.39      0.38       811\n",
      "\n",
      "    accuracy                           0.65      3050\n",
      "   macro avg       0.57      0.57      0.57      3050\n",
      "weighted avg       0.66      0.65      0.66      3050\n",
      "\n"
     ]
    }
   ],
   "source": [
    "from sklearn.metrics import accuracy_score, classification_report, auc\n",
    "from sklearn.metrics import roc_auc_score\n",
    "pred_test = model.predict(X_test)\n",
    "pred_train = model.predict(X_train)\n",
    "\n",
    "print('Train Accuracy: ', accuracy_score(y_train, pred_train))\n",
    "print('Test Accuraccy: ', accuracy_score(y_test, pred_test))\n",
    "print('Train auc: ', roc_auc_score(y_train, pred_train))\n",
    "print('Test auc: ', roc_auc_score(y_test, pred_test))\n",
    "print('Classification Report:')\n",
    "print(classification_report(y_test,pred_test))\n"
   ]
  },
  {
   "cell_type": "code",
   "execution_count": 0,
   "metadata": {
    "colab": {
     "base_uri": "https://localhost:8080/",
     "height": 435
    },
    "colab_type": "code",
    "id": "AQVtvMSB66Xt",
    "outputId": "3eabd3ed-6ff1-4e9f-81f2-526aeb486b95"
   },
   "outputs": [
    {
     "name": "stdout",
     "output_type": "stream",
     "text": [
      "True Negatives:  1710\n",
      "False Positives:  529\n",
      "False Negatives:  503\n",
      "True Positives:  308\n",
      "Total :  811\n"
     ]
    },
    {
     "data": {
      "image/png": "[encoded data removed]",
      "text/plain": [
       "<Figure size 360x360 with 2 Axes>"
      ]
     },
     "metadata": {
      "needs_background": "light",
      "tags": []
     },
     "output_type": "display_data"
    }
   ],
   "source": [
    "plot_cm(test_labels, pred_test)"
   ]
  },
  {
   "cell_type": "code",
   "execution_count": 0,
   "metadata": {
    "colab": {},
    "colab_type": "code",
    "id": "atveJ8W4UDlK"
   },
   "outputs": [],
   "source": [
    "from sklearn.metrics import fbeta_score, make_scorer\n",
    "from sklearn.model_selection import StratifiedKFold , RandomizedSearchCV\n",
    "# create a default XGBoost classifier\n",
    "model = XGBClassifier(\n",
    "    \n",
    "    eval_metric=[\"error\", \"auc\"]\n",
    ")\n",
    "# Create the grid search parameter grid and scoring funcitons\n",
    "param_grid = {\n",
    "    \"learning_rate\": [0.1, 0.01],\n",
    "    \"colsample_bytree\": [0.6, 0.8, 1.0],\n",
    "    \"subsample\": [0.6, 0.8, 1.0],\n",
    "    \"max_depth\": [2, 3, 4],\n",
    "    \"n_estimators\": [100, 200, 300, 400],\n",
    "    \"reg_lambda\": [1, 1.5, 2],\n",
    "    \"gamma\": [0, 0.1, 0.3],\n",
    "}\n",
    "scoring = {\n",
    "    'AUC': 'roc_auc', \n",
    "    'Accuracy': make_scorer(accuracy_score)\n",
    "}\n",
    "\n",
    "# create the Kfold object\n",
    "num_folds = 10\n",
    "kfold = StratifiedKFold(n_splits=num_folds)\n",
    "# create the grid search object\n",
    "n_iter=50\n",
    "grid = RandomizedSearchCV(\n",
    "    estimator=model, \n",
    "    param_distributions=param_grid,\n",
    "    cv=kfold,\n",
    "    scoring=scoring,\n",
    "    \n",
    "    n_iter=n_iter,\n",
    "    refit=\"AUC\",\n",
    ")\n",
    "# fit grid search\n"
   ]
  },
  {
   "cell_type": "code",
   "execution_count": 0,
   "metadata": {
    "colab": {},
    "colab_type": "code",
    "id": "ZLgO9I0S8wDq"
   },
   "outputs": [],
   "source": [
    "best_model = grid.fit(X_train,y_train, eval_set=[(X_train, y_train), (X_val, y_val)],verbose=False)"
   ]
  },
  {
   "cell_type": "code",
   "execution_count": 435,
   "metadata": {
    "colab": {
     "base_uri": "https://localhost:8080/",
     "height": 255
    },
    "colab_type": "code",
    "id": "qH9-4rGk-fok",
    "outputId": "fce4ffe4-2117-4ac9-da04-ec6f7a0cdd66"
   },
   "outputs": [
    {
     "name": "stdout",
     "output_type": "stream",
     "text": [
      "Train Accuracy:  0.9392005610098176\n",
      "Test Accuraccy:  0.6645901639344263\n",
      "Train auc:  0.9392005610098177\n",
      "Test auc:  0.5674744152670763\n",
      "Classification Report:\n",
      "              precision    recall  f1-score   support\n",
      "\n",
      "           0       0.77      0.77      0.77      2239\n",
      "           1       0.37      0.36      0.36       811\n",
      "\n",
      "    accuracy                           0.66      3050\n",
      "   macro avg       0.57      0.57      0.57      3050\n",
      "weighted avg       0.66      0.66      0.66      3050\n",
      "\n"
     ]
    }
   ],
   "source": [
    "pred_test = best_model.predict(X_test)\n",
    "pred_train = best_model.predict(X_train)\n",
    "\n",
    "print('Train Accuracy: ', accuracy_score(y_train, pred_train))\n",
    "print('Test Accuraccy: ', accuracy_score(y_test, pred_test))\n",
    "print('Train auc: ', roc_auc_score(y_train, pred_train))\n",
    "print('Test auc: ', roc_auc_score(y_test, pred_test))\n",
    "print('Classification Report:')\n",
    "print(classification_report(y_test,pred_test))\n"
   ]
  },
  {
   "cell_type": "code",
   "execution_count": 0,
   "metadata": {
    "colab": {},
    "colab_type": "code",
    "id": "8c-dEyOP9YNg"
   },
   "outputs": [],
   "source": [
    "pred_test = best_model.predict(X_test)"
   ]
  },
  {
   "cell_type": "code",
   "execution_count": 398,
   "metadata": {
    "colab": {
     "base_uri": "https://localhost:8080/",
     "height": 428
    },
    "colab_type": "code",
    "id": "6nzV_t5CM4ED",
    "outputId": "443f4607-2bac-4bfd-e060-b8b33cfb30cb"
   },
   "outputs": [
    {
     "data": {
      "text/plain": [
       "<bound method BaseEstimator.get_params of RandomizedSearchCV(cv=StratifiedKFold(n_splits=10, random_state=None, shuffle=False),\n",
       "                   error_score=nan,\n",
       "                   estimator=XGBClassifier(base_score=0.5, booster='gbtree',\n",
       "                                           colsample_bylevel=1,\n",
       "                                           colsample_bynode=1,\n",
       "                                           colsample_bytree=1,\n",
       "                                           eval_metric=['error', 'auc'],\n",
       "                                           gamma=0, learning_rate=0.1,\n",
       "                                           max_delta_step=0, max_depth=3,\n",
       "                                           min_child_weight=1, missing=None,\n",
       "                                           n_estimators=100, n_job...\n",
       "                   param_distributions={'colsample_bytree': [0.6, 0.8, 1.0],\n",
       "                                        'gamma': [0, 0.1, 0.3],\n",
       "                                        'learning_rate': [0.1, 0.01],\n",
       "                                        'max_depth': [2, 3, 4],\n",
       "                                        'n_estimators': [100, 200, 300, 400],\n",
       "                                        'reg_lambda': [1, 1.5, 2],\n",
       "                                        'subsample': [0.6, 0.8, 1.0]},\n",
       "                   pre_dispatch='2*n_jobs', random_state=None, refit='AUC',\n",
       "                   return_train_score=False,\n",
       "                   scoring={'AUC': 'roc_auc',\n",
       "                            'Accuracy': make_scorer(accuracy_score)},\n",
       "                   verbose=0)>"
      ]
     },
     "execution_count": 398,
     "metadata": {
      "tags": []
     },
     "output_type": "execute_result"
    }
   ],
   "source": [
    "params"
   ]
  },
  {
   "cell_type": "code",
   "execution_count": 0,
   "metadata": {
    "colab": {},
    "colab_type": "code",
    "id": "ylZxu6OiOec5"
   },
   "outputs": [],
   "source": []
  }
 ],
 "metadata": {
  "accelerator": "GPU",
  "colab": {
   "collapsed_sections": [
    "kR11oyPVjQFv"
   ],
   "name": "Volatility Prediction at Earnings Announcement Dates.ipynb",
   "provenance": [],
   "toc_visible": true
  },
  "kernelspec": {
   "display_name": "Python 3",
   "language": "python",
   "name": "python3"
  },
  "language_info": {
   "codemirror_mode": {
    "name": "ipython",
    "version": 3
   },
   "file_extension": ".py",
   "mimetype": "text/x-python",
   "name": "python",
   "nbconvert_exporter": "python",
   "pygments_lexer": "ipython3",
   "version": "3.7.1"
  }
 },
 "nbformat": 4,
 "nbformat_minor": 1
}
